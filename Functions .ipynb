{
  "nbformat": 4,
  "nbformat_minor": 0,
  "metadata": {
    "colab": {
      "name": "Untitled8.ipynb",
      "provenance": [],
      "collapsed_sections": [],
      "authorship_tag": "ABX9TyMS7i3TvmLcjpG9qzFQwwzq",
      "include_colab_link": true
    },
    "kernelspec": {
      "name": "python3",
      "display_name": "Python 3"
    }
  },
  "cells": [
    {
      "cell_type": "markdown",
      "metadata": {
        "id": "view-in-github",
        "colab_type": "text"
      },
      "source": [
        "<a href=\"https://colab.research.google.com/github/VeraaaaWei/data_analytics/blob/Python/1.11(2).ipynb\" target=\"_parent\"><img src=\"https://colab.research.google.com/assets/colab-badge.svg\" alt=\"Open In Colab\"/></a>"
      ]
    },
    {
      "cell_type": "code",
      "metadata": {
        "colab": {
          "base_uri": "https://localhost:8080/"
        },
        "id": "3CCQtezlznMm",
        "outputId": "a057f194-4255-4e6d-b6e6-6e7672f48d7b"
      },
      "source": [
        "def greeting (name):\n",
        "  print('Hello, ' + name)\n",
        "\n",
        "greeting('Vera')"
      ],
      "execution_count": 2,
      "outputs": [
        {
          "output_type": "stream",
          "text": [
            "Hello, Vera\n"
          ],
          "name": "stdout"
        }
      ]
    },
    {
      "cell_type": "code",
      "metadata": {
        "colab": {
          "base_uri": "https://localhost:8080/"
        },
        "id": "FvD9K1YK0ES7",
        "outputId": "7715ff3a-1f44-4ee7-9cc1-2a898ec1f3b2"
      },
      "source": [
        "def age(year):\n",
        "  print('I am ' + year + ' years old.')\n",
        "\n",
        "age(str(22))"
      ],
      "execution_count": 4,
      "outputs": [
        {
          "output_type": "stream",
          "text": [
            "I am 22 years old.\n"
          ],
          "name": "stdout"
        }
      ]
    },
    {
      "cell_type": "code",
      "metadata": {
        "colab": {
          "base_uri": "https://localhost:8080/"
        },
        "id": "eCV0igvE1FSK",
        "outputId": "ae81b377-a123-464c-cba3-2cea82fb038e"
      },
      "source": [
        "age('34')\n",
        "age('5')"
      ],
      "execution_count": 5,
      "outputs": [
        {
          "output_type": "stream",
          "text": [
            "I am 34 years old.\n",
            "I am 5 years old.\n"
          ],
          "name": "stdout"
        }
      ]
    },
    {
      "cell_type": "code",
      "metadata": {
        "colab": {
          "base_uri": "https://localhost:8080/"
        },
        "id": "IRaUk1mQ18nW",
        "outputId": "d2b30dd3-9300-4b6d-b6a2-34e07eed0972"
      },
      "source": [
        "def name(first, last, age):\n",
        "  print('Hi, ' + first + \" \" + last)\n",
        "  print('I am ' + str(age) + ' years old.')\n",
        "name('Lai', 'Wei', 22)"
      ],
      "execution_count": 7,
      "outputs": [
        {
          "output_type": "stream",
          "text": [
            "Hi, Lai Wei\n",
            "I am 22 years old.\n"
          ],
          "name": "stdout"
        }
      ]
    }
  ]
}
