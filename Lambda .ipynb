{
  "nbformat": 4,
  "nbformat_minor": 0,
  "metadata": {
    "colab": {
      "name": "Untitled21.ipynb",
      "provenance": [],
      "authorship_tag": "ABX9TyN5XMVXA1C/Bkhn0g6o79fi",
      "include_colab_link": true
    },
    "kernelspec": {
      "name": "python3",
      "display_name": "Python 3"
    },
    "language_info": {
      "name": "python"
    }
  },
  "cells": [
    {
      "cell_type": "markdown",
      "metadata": {
        "id": "view-in-github",
        "colab_type": "text"
      },
      "source": [
        "<a href=\"https://colab.research.google.com/github/VeraaaaWei/data_analytics/blob/Python/Lambda%20.ipynb\" target=\"_parent\"><img src=\"https://colab.research.google.com/assets/colab-badge.svg\" alt=\"Open In Colab\"/></a>"
      ]
    },
    {
      "cell_type": "code",
      "metadata": {
        "colab": {
          "base_uri": "https://localhost:8080/"
        },
        "id": "jkvGkDfvh3FU",
        "outputId": "5c500d80-f48b-4d22-b5d6-dc9fc4f4e791"
      },
      "source": [
        "plus= lambda x,y: x+y\n",
        "print(plus(2,3))"
      ],
      "execution_count": 2,
      "outputs": [
        {
          "output_type": "stream",
          "text": [
            "5\n"
          ],
          "name": "stdout"
        }
      ]
    },
    {
      "cell_type": "code",
      "metadata": {
        "colab": {
          "base_uri": "https://localhost:8080/"
        },
        "id": "-hX5eg9ExuEY",
        "outputId": "4fbeb5cd-77ea-4b1e-b3d6-5e257ffc93b5"
      },
      "source": [
        "map(lambda x: x*x,[y for y in range(10)])"
      ],
      "execution_count": 10,
      "outputs": [
        {
          "output_type": "execute_result",
          "data": {
            "text/plain": [
              "<map at 0x7fcc5676b950>"
            ]
          },
          "metadata": {},
          "execution_count": 10
        }
      ]
    },
    {
      "cell_type": "code",
      "metadata": {
        "colab": {
          "base_uri": "https://localhost:8080/"
        },
        "id": "ytfpCOwVz3fA",
        "outputId": "c0a88b38-d5fe-4b0e-b847-5f6ce48e8723"
      },
      "source": [
        "list1=[('a',3),('b',2),('c',4),('d',1)]\n",
        "sorted(list1,key=lambda x:x[0])"
      ],
      "execution_count": 21,
      "outputs": [
        {
          "output_type": "execute_result",
          "data": {
            "text/plain": [
              "[('a', 3), ('b', 2), ('c', 4), ('d', 1)]"
            ]
          },
          "metadata": {},
          "execution_count": 21
        }
      ]
    },
    {
      "cell_type": "code",
      "metadata": {
        "colab": {
          "base_uri": "https://localhost:8080/"
        },
        "id": "21ejLfYO0iNK",
        "outputId": "5adbbf0d-e0ea-44a9-ff1e-a4b09bcee927"
      },
      "source": [
        "sorted(list1,key=lambda x:x[1])"
      ],
      "execution_count": 19,
      "outputs": [
        {
          "output_type": "execute_result",
          "data": {
            "text/plain": [
              "[('d', 1), ('b', 2), ('a', 3), ('c', 4)]"
            ]
          },
          "metadata": {},
          "execution_count": 19
        }
      ]
    },
    {
      "cell_type": "code",
      "metadata": {
        "colab": {
          "base_uri": "https://localhost:8080/"
        },
        "id": "EJsSZlVsriDW",
        "outputId": "3172f817-1bdc-4469-e137-93a514de9c35"
      },
      "source": [
        "def new_func(x):\n",
        "    return(lambda y: x + y)\n",
        "three = new_func(3)\n",
        "two = new_func(2)\n",
        "print(three(3))\n",
        "print(two(3))\n"
      ],
      "execution_count": 5,
      "outputs": [
        {
          "output_type": "stream",
          "text": [
            "6\n",
            "5\n"
          ],
          "name": "stdout"
        }
      ]
    }
  ]
}