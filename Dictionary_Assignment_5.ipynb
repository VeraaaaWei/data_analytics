{
  "nbformat": 4,
  "nbformat_minor": 0,
  "metadata": {
    "colab": {
      "name": "Copy of Unit2_Dictionary_Assignment_5.ipynb",
      "provenance": [],
      "collapsed_sections": [],
      "include_colab_link": true
    },
    "kernelspec": {
      "name": "python3",
      "display_name": "Python 3"
    }
  },
  "cells": [
    {
      "cell_type": "markdown",
      "metadata": {
        "id": "view-in-github",
        "colab_type": "text"
      },
      "source": [
        "<a href=\"https://colab.research.google.com/github/VeraaaaWei/data_analytics/blob/Python/Copy_of_Unit2_Dictionary_Assignment_5.ipynb\" target=\"_parent\"><img src=\"https://colab.research.google.com/assets/colab-badge.svg\" alt=\"Open In Colab\"/></a>"
      ]
    },
    {
      "cell_type": "markdown",
      "metadata": {
        "id": "Vgs8Kp4TidFQ"
      },
      "source": [
        "# Intrdouction to Python - Dictionary - Assignment #5 "
      ]
    },
    {
      "cell_type": "markdown",
      "metadata": {
        "id": "_Hq7Ny79iwgD"
      },
      "source": [
        "## 1.\tCreate a simple dictionary that stores 2 variables, for example: first and last name."
      ]
    },
    {
      "cell_type": "code",
      "metadata": {
        "id": "lotvpVpvlKsR"
      },
      "source": [
        "name = {'firstname': 'Vera', 'lastname': 'Wei'}"
      ],
      "execution_count": null,
      "outputs": []
    },
    {
      "cell_type": "code",
      "metadata": {
        "id": "oNXY-CfrlLbE"
      },
      "source": [
        ""
      ],
      "execution_count": null,
      "outputs": []
    },
    {
      "cell_type": "markdown",
      "metadata": {
        "id": "io_27RSlizno"
      },
      "source": [
        "## 2.\tPrint out those variables stored in your previous dictionary. "
      ]
    },
    {
      "cell_type": "code",
      "metadata": {
        "id": "Dh1o5cAylSHB",
        "colab": {
          "base_uri": "https://localhost:8080/"
        },
        "outputId": "9a184806-012a-433a-91da-3b23888986ea"
      },
      "source": [
        "print(name['firstname'])\n",
        "print(name['lastname'])"
      ],
      "execution_count": null,
      "outputs": [
        {
          "output_type": "stream",
          "text": [
            "Vera\n",
            "Wei\n"
          ],
          "name": "stdout"
        }
      ]
    },
    {
      "cell_type": "code",
      "metadata": {
        "id": "vs8ppR-wlSKL"
      },
      "source": [
        ""
      ],
      "execution_count": null,
      "outputs": []
    },
    {
      "cell_type": "markdown",
      "metadata": {
        "id": "DAW8m8IQjRyR"
      },
      "source": [
        "## 3.\tAdd a message to those variables on printing: for example: “Hello, firstname lastname!”"
      ]
    },
    {
      "cell_type": "code",
      "metadata": {
        "id": "guULMEhrjYtT",
        "colab": {
          "base_uri": "https://localhost:8080/"
        },
        "outputId": "efce1233-f02c-4815-883d-5387362c7899"
      },
      "source": [
        "print(\"Hello, \" + name['firstname'] + \" \" + name ['lastname'] + \"!\")"
      ],
      "execution_count": null,
      "outputs": [
        {
          "output_type": "stream",
          "text": [
            "Hello, Vera Wei!\n"
          ],
          "name": "stdout"
        }
      ]
    },
    {
      "cell_type": "code",
      "metadata": {
        "id": "cv946RaOjw-G"
      },
      "source": [
        ""
      ],
      "execution_count": null,
      "outputs": []
    },
    {
      "cell_type": "markdown",
      "metadata": {
        "id": "dpa_YOt4jXyo"
      },
      "source": [
        "## 4.\tCreate a dictionary that holds 2 key: value pairs:\r\n",
        "\r\n",
        "\r\n",
        "\r\n",
        "a.\tLook through your dictionary and print each pair,\r\n"
      ]
    },
    {
      "cell_type": "code",
      "metadata": {
        "id": "pltxfnh3iJLW",
        "colab": {
          "base_uri": "https://localhost:8080/"
        },
        "outputId": "3a250df0-ccd5-46e9-9550-7411908fa8d9"
      },
      "source": [
        "for x in name:\n",
        "  print (x + \": \" + name[x])\n"
      ],
      "execution_count": null,
      "outputs": [
        {
          "output_type": "stream",
          "text": [
            "firstname: Vera\n",
            "lastname: Wei\n"
          ],
          "name": "stdout"
        }
      ]
    },
    {
      "cell_type": "code",
      "metadata": {
        "id": "UWhKBrW57cB2"
      },
      "source": [
        ""
      ],
      "execution_count": null,
      "outputs": []
    },
    {
      "cell_type": "markdown",
      "metadata": {
        "id": "jrn6evE07aYs"
      },
      "source": [
        "##5. Create a nested dictionary containing three dictionaries - these dictionaries could be anything(favorite pets, travel locations, etc.)\n",
        "\n",
        "a.Loop through the dictionaries and print a message for each."
      ]
    },
    {
      "cell_type": "code",
      "metadata": {
        "id": "M17RfxQljvqb",
        "colab": {
          "base_uri": "https://localhost:8080/"
        },
        "outputId": "3021ca2c-5bab-40ff-c787-b2f9a2cb84cb"
      },
      "source": [
        "pet = {'pet1': 'dog', 'pet2' : 'cats'}\n",
        "location ={'1': 'NYC', '2':'HK'}\n",
        "name = {'friend1' : 'Bob','friend2' : 'Tom'}\n",
        "dictionary1 = {'pet' : {'pet1': 'dog', 'pet2' : 'cats'}, 'location' : {'1': 'NYC', '2':'HK'}, 'name' : {'friend1' : 'Bob','friend2' : 'Tom'}}\n",
        "for x,y in dictionary1.items():\n",
        "  print('\\nkey : ' + x)\n",
        "  for key in y:\n",
        "    print(key + ':' + y[key])\n",
        "  \n",
        "\n"
      ],
      "execution_count": null,
      "outputs": [
        {
          "output_type": "stream",
          "text": [
            "\n",
            "key : pet\n",
            "pet1:dog\n",
            "pet2:cats\n",
            "\n",
            "key : location\n",
            "1:NYC\n",
            "2:HK\n",
            "\n",
            "key : name\n",
            "friend1:Bob\n",
            "friend2:Tom\n"
          ],
          "name": "stdout"
        }
      ]
    }
  ]
}
