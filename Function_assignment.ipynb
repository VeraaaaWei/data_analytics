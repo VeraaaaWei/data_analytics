{
  "nbformat": 4,
  "nbformat_minor": 0,
  "metadata": {
    "colab": {
      "name": "Function assignment.ipynb",
      "provenance": [],
      "collapsed_sections": [],
      "authorship_tag": "ABX9TyMfO26FC25mb7XRhyXpwvPj",
      "include_colab_link": true
    },
    "kernelspec": {
      "name": "python3",
      "display_name": "Python 3"
    }
  },
  "cells": [
    {
      "cell_type": "markdown",
      "metadata": {
        "id": "view-in-github",
        "colab_type": "text"
      },
      "source": [
        "<a href=\"https://colab.research.google.com/github/VeraaaaWei/data_analytics/blob/Python/Function_assignment.ipynb\" target=\"_parent\"><img src=\"https://colab.research.google.com/assets/colab-badge.svg\" alt=\"Open In Colab\"/></a>"
      ]
    },
    {
      "cell_type": "code",
      "metadata": {
        "colab": {
          "base_uri": "https://localhost:8080/"
        },
        "id": "iKxMmRt8G2L9",
        "outputId": "2d8b7154-057b-4c39-c533-37cf87118d56"
      },
      "source": [
        "def location (city, country):\n",
        "  print(\" I live in \" + city + \", which is in \" + country)\n",
        "\n",
        "location ('NYC', 'USA')\n",
        "location ('Beijing', 'China')\n",
        "location ('Tokyo', 'Japan')\n",
        "\n",
        "\n"
      ],
      "execution_count": null,
      "outputs": [
        {
          "output_type": "stream",
          "text": [
            " I live in NYC, which is in USA\n",
            " I live in Beijing, which is in China\n",
            " I live in Tokyo, which is in Japan\n",
            " I live in NYC, which is in USA\n"
          ],
          "name": "stdout"
        }
      ]
    },
    {
      "cell_type": "code",
      "metadata": {
        "colab": {
          "base_uri": "https://localhost:8080/"
        },
        "id": "M2fNBuUBKHMn",
        "outputId": "efeadf59-0d95-4699-b2e8-963d0f52d31b"
      },
      "source": [
        "def location (city, country= 'USA'):\n",
        "  print(\" I live in \" + city + \", which is in \" + country)\n",
        "\n",
        "location (city='NYC')\n",
        "location (city='Beijing', country='China')\n",
        "location (city= 'Jersey City')"
      ],
      "execution_count": null,
      "outputs": [
        {
          "output_type": "stream",
          "text": [
            " I live in NYC, which is in USA\n",
            " I live in Beijing, which is in China\n",
            " I live in Jersey City, which is in USA\n"
          ],
          "name": "stdout"
        }
      ]
    }
  ]
}