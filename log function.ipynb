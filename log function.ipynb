{
  "nbformat": 4,
  "nbformat_minor": 0,
  "metadata": {
    "colab": {
      "name": "Untitled22.ipynb",
      "provenance": [],
      "authorship_tag": "ABX9TyNo1U2yfdn7I/ZFIxoD9dq0",
      "include_colab_link": true
    },
    "kernelspec": {
      "name": "python3",
      "display_name": "Python 3"
    },
    "language_info": {
      "name": "python"
    }
  },
  "cells": [
    {
      "cell_type": "markdown",
      "metadata": {
        "id": "view-in-github",
        "colab_type": "text"
      },
      "source": [
        "<a href=\"https://colab.research.google.com/github/VeraaaaWei/data_analytics/blob/Python/log%20function.ipynb\" target=\"_parent\"><img src=\"https://colab.research.google.com/assets/colab-badge.svg\" alt=\"Open In Colab\"/></a>"
      ]
    },
    {
      "cell_type": "code",
      "metadata": {
        "colab": {
          "base_uri": "https://localhost:8080/"
        },
        "id": "tSRDxdsVPWV7",
        "outputId": "7560b316-01e2-44ca-ebfe-70af1e261534"
      },
      "source": [
        "import math\n",
        "#log(x) : base e, logarithm x \n",
        "print(\"log value：\",math.log(3))"
      ],
      "execution_count": 20,
      "outputs": [
        {
          "output_type": "stream",
          "text": [
            "log value： 1.0986122886681098\n"
          ],
          "name": "stdout"
        }
      ]
    },
    {
      "cell_type": "code",
      "metadata": {
        "colab": {
          "base_uri": "https://localhost:8080/"
        },
        "id": "n_O89L4uQ3Z1",
        "outputId": "c9db9280-b578-49cf-d643-9e7b392682ca"
      },
      "source": [
        "#log2(y): base 2, logarithm y\n",
        "print (\"log value for base 2: \",math.log2(30)) "
      ],
      "execution_count": 21,
      "outputs": [
        {
          "output_type": "stream",
          "text": [
            "log value for base 2:  4.906890595608519\n"
          ],
          "name": "stdout"
        }
      ]
    },
    {
      "cell_type": "code",
      "metadata": {
        "colab": {
          "base_uri": "https://localhost:8080/"
        },
        "id": "k1QxTLkGSygw",
        "outputId": "7ff72034-e73e-4684-a56d-c3ca28f90d2a"
      },
      "source": [
        "#log10(z): base 10, logarithm z\n",
        "print (\"log value for base 10: \",math.log10(60))"
      ],
      "execution_count": 22,
      "outputs": [
        {
          "output_type": "stream",
          "text": [
            "log value for base 10:  1.7781512503836436\n"
          ],
          "name": "stdout"
        }
      ]
    },
    {
      "cell_type": "code",
      "metadata": {
        "colab": {
          "base_uri": "https://localhost:8080/"
        },
        "id": "2L_gWmXjTF9C",
        "outputId": "8da0dac9-7d64-49bf-a7de-f5780c461537"
      },
      "source": [
        "#log(x,y): base y, logarithm x\n",
        "print (\"Log value for base 4 : \",math.log(40,4)) "
      ],
      "execution_count": 23,
      "outputs": [
        {
          "output_type": "stream",
          "text": [
            "Log value for base 4 :  2.6609640474436813\n"
          ],
          "name": "stdout"
        }
      ]
    },
    {
      "cell_type": "code",
      "metadata": {
        "colab": {
          "base_uri": "https://localhost:8080/"
        },
        "id": "6hcYpNmWTdXY",
        "outputId": "fcf1db6b-38b2-4674-e198-3b0fae312856"
      },
      "source": [
        "#log1p(x) = log(1+x)\n",
        "print (\"Log value(1+20) for x = 20 is: \",math.log1p(20)) "
      ],
      "execution_count": 24,
      "outputs": [
        {
          "output_type": "stream",
          "text": [
            "Log value(1+20) for x = 20 is:  3.044522437723423\n"
          ],
          "name": "stdout"
        }
      ]
    },
    {
      "cell_type": "code",
      "metadata": {
        "colab": {
          "base_uri": "https://localhost:8080/"
        },
        "id": "Srf3F9jBVwC3",
        "outputId": "71c3bbcc-500f-4234-947c-9bcd741da2df"
      },
      "source": [
        "import numpy as np \n",
        "num_list = [10, 20, 30, 40, 50] \n",
        "print (\"nums in the list:\\n\", num_list) \n",
        " \n",
        "log_num_list = np.log(num_list) \n",
        "print (\"logarithmic results for nums in the list:\\n\",log_num_list)"
      ],
      "execution_count": 25,
      "outputs": [
        {
          "output_type": "stream",
          "text": [
            "nums in the list:\n",
            " [10, 20, 30, 40, 50]\n",
            "logarithmic results for nums in the list:\n",
            " [2.30258509 2.99573227 3.40119738 3.68887945 3.91202301]\n"
          ],
          "name": "stdout"
        }
      ]
    }
  ]
}