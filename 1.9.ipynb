{
  "nbformat": 4,
  "nbformat_minor": 0,
  "metadata": {
    "colab": {
      "name": "Untitled6.ipynb",
      "provenance": [],
      "collapsed_sections": [],
      "authorship_tag": "ABX9TyMXZGd6ke/2irf/o+w5gFiy",
      "include_colab_link": true
    },
    "kernelspec": {
      "name": "python3",
      "display_name": "Python 3"
    }
  },
  "cells": [
    {
      "cell_type": "markdown",
      "metadata": {
        "id": "view-in-github",
        "colab_type": "text"
      },
      "source": [
        "<a href=\"https://colab.research.google.com/github/VeraaaaWei/data_analytics/blob/Python/1.9.ipynb\" target=\"_parent\"><img src=\"https://colab.research.google.com/assets/colab-badge.svg\" alt=\"Open In Colab\"/></a>"
      ]
    },
    {
      "cell_type": "code",
      "metadata": {
        "colab": {
          "base_uri": "https://localhost:8080/"
        },
        "id": "0w9EogZVbJWa",
        "outputId": "34ec01f9-d885-432b-fbaa-58fce900b0f4"
      },
      "source": [
        "motorcycles = ['ducati','bmw','yamaha','honda']\n",
        "for bike in motorcycles:\n",
        "  if bike == 'ducati':\n",
        "    print(bike.upper())\n",
        "  else:\n",
        "    print(bike.lower())"
      ],
      "execution_count": null,
      "outputs": [
        {
          "output_type": "stream",
          "text": [
            "DUCATI\n",
            "bmw\n",
            "yamaha\n",
            "honda\n"
          ],
          "name": "stdout"
        }
      ]
    },
    {
      "cell_type": "code",
      "metadata": {
        "colab": {
          "base_uri": "https://localhost:8080/"
        },
        "id": "LSTZzujYcER_",
        "outputId": "f6ce4a60-5400-472e-c93a-ae4db80c8c30"
      },
      "source": [
        "x = 1\n",
        "x == 1"
      ],
      "execution_count": null,
      "outputs": [
        {
          "output_type": "execute_result",
          "data": {
            "text/plain": [
              "True"
            ]
          },
          "metadata": {
            "tags": []
          },
          "execution_count": 2
        }
      ]
    },
    {
      "cell_type": "code",
      "metadata": {
        "colab": {
          "base_uri": "https://localhost:8080/"
        },
        "id": "I1cV1hvYcHUb",
        "outputId": "886549b7-6926-46dc-dae2-a03cacdb8f31"
      },
      "source": [
        "x = 3\n",
        "x == 4"
      ],
      "execution_count": null,
      "outputs": [
        {
          "output_type": "execute_result",
          "data": {
            "text/plain": [
              "False"
            ]
          },
          "metadata": {
            "tags": []
          },
          "execution_count": 3
        }
      ]
    },
    {
      "cell_type": "code",
      "metadata": {
        "colab": {
          "base_uri": "https://localhost:8080/"
        },
        "id": "a5ZoNvxPcKRQ",
        "outputId": "e3587bf0-db1d-4014-fbf8-a81e4fbc1b41"
      },
      "source": [
        "x = 'abc'\n",
        "x == 'Abc'\n",
        "if (x.title()) == 'Abc':\n",
        "    print (True)\n",
        "else:\n",
        "    print(False) "
      ],
      "execution_count": 6,
      "outputs": [
        {
          "output_type": "stream",
          "text": [
            "True\n"
          ],
          "name": "stdout"
        }
      ]
    },
    {
      "cell_type": "code",
      "metadata": {
        "colab": {
          "base_uri": "https://localhost:8080/"
        },
        "id": "4bPGPO7LdkDz",
        "outputId": "73a8ecef-3225-4dac-94c1-53620f46848c"
      },
      "source": [
        "brand = 'Gucci'\n",
        "if brand != 'BV':\n",
        "  print(\"I don't want it.\")"
      ],
      "execution_count": null,
      "outputs": [
        {
          "output_type": "stream",
          "text": [
            "I don't want it.\n"
          ],
          "name": "stdout"
        }
      ]
    },
    {
      "cell_type": "code",
      "metadata": {
        "colab": {
          "base_uri": "https://localhost:8080/"
        },
        "id": "hKZKk-SNeH8y",
        "outputId": "f6ea4d9d-d74d-4a2f-a007-37b698207b69"
      },
      "source": [
        "duration = 9\n",
        "if duration <= 8:\n",
        "  print(\"accept\")\n",
        "else:\n",
        "  print('reject')"
      ],
      "execution_count": null,
      "outputs": [
        {
          "output_type": "stream",
          "text": [
            "reject\n"
          ],
          "name": "stdout"
        }
      ]
    },
    {
      "cell_type": "code",
      "metadata": {
        "colab": {
          "base_uri": "https://localhost:8080/"
        },
        "id": "ROuc9GPrfPDg",
        "outputId": "3ecf9065-878c-48ea-d7dd-a9a137a54fb4"
      },
      "source": [
        "A = 8\n",
        "B = 9\n",
        "A != 7 or B != 9 "
      ],
      "execution_count": null,
      "outputs": [
        {
          "output_type": "execute_result",
          "data": {
            "text/plain": [
              "True"
            ]
          },
          "metadata": {
            "tags": []
          },
          "execution_count": 13
        }
      ]
    },
    {
      "cell_type": "code",
      "metadata": {
        "colab": {
          "base_uri": "https://localhost:8080/"
        },
        "id": "SI7zbeSBfgoM",
        "outputId": "292b7ac7-9df1-49a3-cc4f-d5f9c021a00e"
      },
      "source": [
        "A = 8\n",
        "B = 9\n",
        "A != 7 and B != 9 "
      ],
      "execution_count": null,
      "outputs": [
        {
          "output_type": "execute_result",
          "data": {
            "text/plain": [
              "False"
            ]
          },
          "metadata": {
            "tags": []
          },
          "execution_count": 14
        }
      ]
    },
    {
      "cell_type": "code",
      "metadata": {
        "colab": {
          "base_uri": "https://localhost:8080/"
        },
        "id": "FbL7LiOcrOWv",
        "outputId": "d5f90ab1-0bc3-45cb-e0fc-851b4d4c84dd"
      },
      "source": [
        "country = ['US', 'China','Japan']\n",
        "'UK' in country"
      ],
      "execution_count": null,
      "outputs": [
        {
          "output_type": "execute_result",
          "data": {
            "text/plain": [
              "False"
            ]
          },
          "metadata": {
            "tags": []
          },
          "execution_count": 15
        }
      ]
    },
    {
      "cell_type": "code",
      "metadata": {
        "colab": {
          "base_uri": "https://localhost:8080/"
        },
        "id": "1aa17slQria6",
        "outputId": "c43a9e09-b031-42d2-e7de-2fbfa33fa828"
      },
      "source": [
        "month = 'January'\n",
        "month == 'January'"
      ],
      "execution_count": null,
      "outputs": [
        {
          "output_type": "execute_result",
          "data": {
            "text/plain": [
              "True"
            ]
          },
          "metadata": {
            "tags": []
          },
          "execution_count": 16
        }
      ]
    },
    {
      "cell_type": "code",
      "metadata": {
        "colab": {
          "base_uri": "https://localhost:8080/"
        },
        "id": "eNal4L5msVvx",
        "outputId": "232ba4f0-13dc-40bb-b190-6ddd2a41c7d3"
      },
      "source": [
        "month = 'January'\n",
        "month != 'January'"
      ],
      "execution_count": null,
      "outputs": [
        {
          "output_type": "execute_result",
          "data": {
            "text/plain": [
              "False"
            ]
          },
          "metadata": {
            "tags": []
          },
          "execution_count": 17
        }
      ]
    },
    {
      "cell_type": "code",
      "metadata": {
        "colab": {
          "base_uri": "https://localhost:8080/"
        },
        "id": "RFzPR95Tsfyb",
        "outputId": "6b90ccb8-748a-441f-e0c0-5bc498d495e0"
      },
      "source": [
        " M = 9\n",
        " N = 5\n",
        " M >= N"
      ],
      "execution_count": null,
      "outputs": [
        {
          "output_type": "execute_result",
          "data": {
            "text/plain": [
              "True"
            ]
          },
          "metadata": {
            "tags": []
          },
          "execution_count": 18
        }
      ]
    },
    {
      "cell_type": "code",
      "metadata": {
        "colab": {
          "base_uri": "https://localhost:8080/"
        },
        "id": "J5sL8uTYsq_L",
        "outputId": "2d3d08af-1313-4fbe-a834-3abd0f27a731"
      },
      "source": [
        "M = 9\n",
        "N = 5\n",
        "M <= N "
      ],
      "execution_count": null,
      "outputs": [
        {
          "output_type": "execute_result",
          "data": {
            "text/plain": [
              "False"
            ]
          },
          "metadata": {
            "tags": []
          },
          "execution_count": 19
        }
      ]
    },
    {
      "cell_type": "code",
      "metadata": {
        "colab": {
          "base_uri": "https://localhost:8080/"
        },
        "id": "dcixxchdsvcU",
        "outputId": "83eea39b-4e7b-4a21-80ce-ac5158863b9d"
      },
      "source": [
        "M = 9\n",
        "N = 5\n",
        "M >= 8 and N <6"
      ],
      "execution_count": null,
      "outputs": [
        {
          "output_type": "execute_result",
          "data": {
            "text/plain": [
              "True"
            ]
          },
          "metadata": {
            "tags": []
          },
          "execution_count": 20
        }
      ]
    },
    {
      "cell_type": "code",
      "metadata": {
        "colab": {
          "base_uri": "https://localhost:8080/"
        },
        "id": "VsJNBaeLs3b6",
        "outputId": "585720de-4deb-486c-b0f8-8e4cc5a01b83"
      },
      "source": [
        "M = 9\n",
        "N = 5\n",
        "M >= 10 or N <5"
      ],
      "execution_count": null,
      "outputs": [
        {
          "output_type": "execute_result",
          "data": {
            "text/plain": [
              "False"
            ]
          },
          "metadata": {
            "tags": []
          },
          "execution_count": 21
        }
      ]
    },
    {
      "cell_type": "code",
      "metadata": {
        "colab": {
          "base_uri": "https://localhost:8080/"
        },
        "id": "okttyCC7tG0X",
        "outputId": "3e0acedc-bfe7-40ba-c661-06b84beaef77"
      },
      "source": [
        "nums = [1,2,3,4]\n",
        "8 in nums"
      ],
      "execution_count": null,
      "outputs": [
        {
          "output_type": "execute_result",
          "data": {
            "text/plain": [
              "False"
            ]
          },
          "metadata": {
            "tags": []
          },
          "execution_count": 22
        }
      ]
    },
    {
      "cell_type": "code",
      "metadata": {
        "colab": {
          "base_uri": "https://localhost:8080/"
        },
        "id": "HCjuVErLtXWe",
        "outputId": "5dfbf53a-066f-4aa8-a45f-fc52551e291f"
      },
      "source": [
        "age = 19\n",
        "if age >= 18:\n",
        "  print(\"You're old enough to vote!\")"
      ],
      "execution_count": null,
      "outputs": [
        {
          "output_type": "stream",
          "text": [
            "You're old enough to vote!\n"
          ],
          "name": "stdout"
        }
      ]
    },
    {
      "cell_type": "code",
      "metadata": {
        "colab": {
          "base_uri": "https://localhost:8080/"
        },
        "id": "9_WuJN4NtjL8",
        "outputId": "e4e4c7c8-6b1f-4c43-ea34-e302decf7706"
      },
      "source": [
        "age = 17\n",
        "if age >= 18:\n",
        "  print(\"You're old enough to vote!\")\n",
        "else:\n",
        "  print(\"You're not old enough to vote!\")"
      ],
      "execution_count": null,
      "outputs": [
        {
          "output_type": "stream",
          "text": [
            "You're not old enough to vote!\n"
          ],
          "name": "stdout"
        }
      ]
    },
    {
      "cell_type": "code",
      "metadata": {
        "colab": {
          "base_uri": "https://localhost:8080/"
        },
        "id": "K41zzm2MuEFy",
        "outputId": "db09d500-383e-4e9c-dc1a-23d762830f45"
      },
      "source": [
        "height = 1.5\n",
        "\n",
        "if height <= 1:\n",
        "  print('Free!')\n",
        "elif height <=1.2:\n",
        "  print('$10!')\n",
        "else:\n",
        "  print('$20!')"
      ],
      "execution_count": null,
      "outputs": [
        {
          "output_type": "stream",
          "text": [
            "$20!\n"
          ],
          "name": "stdout"
        }
      ]
    },
    {
      "cell_type": "code",
      "metadata": {
        "colab": {
          "base_uri": "https://localhost:8080/"
        },
        "id": "5m3AXjsvO1pt",
        "outputId": "07023c08-c984-4a09-e4a7-9e2cde7db2ce"
      },
      "source": [
        "height = 1.5\n",
        "\n",
        "if height <= 1:\n",
        "  price = 0\n",
        "elif height <=1.2:\n",
        "  print = 10\n",
        "else:\n",
        "  price = 20\n",
        "print( 'The price is ' + str(price) + \". \" )"
      ],
      "execution_count": null,
      "outputs": [
        {
          "output_type": "stream",
          "text": [
            "The price is 20. \n"
          ],
          "name": "stdout"
        }
      ]
    },
    {
      "cell_type": "code",
      "metadata": {
        "colab": {
          "base_uri": "https://localhost:8080/"
        },
        "id": "Oz3BBxGRP-iU",
        "outputId": "1101859a-a7a5-4c7f-a5e3-79f4846aa90a"
      },
      "source": [
        "age = 75\n",
        "if age <= 2:\n",
        "  print(\"The person is a baby!\")\n",
        "elif age<= 12:\n",
        "  print(\"The person is a child!\")\n",
        "elif age<= 21:\n",
        "  print(\"The person is a teenager!\")\n",
        "else:\n",
        "  print(\"The person is an adult!\")"
      ],
      "execution_count": null,
      "outputs": [
        {
          "output_type": "stream",
          "text": [
            "The person is an adult!\n"
          ],
          "name": "stdout"
        }
      ]
    },
    {
      "cell_type": "code",
      "metadata": {
        "colab": {
          "base_uri": "https://localhost:8080/"
        },
        "id": "wRXpd521Q6Ly",
        "outputId": "6ff89229-f5b1-41e0-a24e-d25a34c37d90"
      },
      "source": [
        "grocery = [\"onion\",\"carrot\",\"cabbage\",\"mushroom\"]\n",
        "if 'onion' in grocery:\n",
        "  print(\"onion\".title())\n",
        "else: \n",
        "  print(\"No onion.\")\n",
        "if 'cucumber' in grocery:\n",
        "  print(\"cucumber\".title())\n",
        "else: \n",
        "  print (\"No cucumber.\")\n",
        "if 'tomato' in grocery:\n",
        "  print(\"tomato\".title())\n",
        "else: \n",
        "  print (\"No tomato.\")\n",
        "if 'bean' in grocery:\n",
        "  print(\"bean\".title())\n",
        "else: \n",
        "  print (\"No bean.\")\n",
        "if 'mushroom' in grocery:\n",
        "  print(\"mushroom\".title())\n",
        "else: \n",
        "  print (\"No mushroom.\")"
      ],
      "execution_count": null,
      "outputs": [
        {
          "output_type": "stream",
          "text": [
            "Onion\n",
            "No cucumber.\n",
            "No tomato.\n",
            "No bean.\n",
            "Mushroom\n"
          ],
          "name": "stdout"
        }
      ]
    },
    {
      "cell_type": "code",
      "metadata": {
        "colab": {
          "base_uri": "https://localhost:8080/"
        },
        "id": "aqFmhwE4UNnK",
        "outputId": "696cfdb4-fa56-47f7-c742-5e84496571e0"
      },
      "source": [
        "grocery = [\"onion\",\"carrot\",\"cabbage\",\"mushroom\"]\n",
        "for n in grocery:\n",
        "  if n == 'onion' in grocery:\n",
        "    print(\"Onion is sold out!\")\n",
        "  else:\n",
        "    print(\"We still have \" + n + \".\")"
      ],
      "execution_count": null,
      "outputs": [
        {
          "output_type": "stream",
          "text": [
            "Onion is sold out!\n",
            "We still have carrot.\n",
            "We still have cabbage.\n",
            "We still have mushroom.\n"
          ],
          "name": "stdout"
        }
      ]
    }
  ]
}