{
  "nbformat": 4,
  "nbformat_minor": 0,
  "metadata": {
    "colab": {
      "name": "Copy of MiniProject_unit2_solution.ipynb",
      "provenance": [],
      "collapsed_sections": [],
      "include_colab_link": true
    },
    "kernelspec": {
      "name": "python3",
      "display_name": "Python 3"
    }
  },
  "cells": [
    {
      "cell_type": "markdown",
      "metadata": {
        "id": "view-in-github",
        "colab_type": "text"
      },
      "source": [
        "<a href=\"https://colab.research.google.com/github/VeraaaaWei/data_analytics/blob/Python/Copy_of_MiniProject_unit2_solution.ipynb\" target=\"_parent\"><img src=\"https://colab.research.google.com/assets/colab-badge.svg\" alt=\"Open In Colab\"/></a>"
      ]
    },
    {
      "cell_type": "markdown",
      "metadata": {
        "id": "eyOFW9MkrE38"
      },
      "source": [
        "Ask the user for a number. Depending on whether the number is even or odd, print out an appropriate message to the user.  Hint: how does an even / odd number react differently when divided by 2?\r\n",
        "\r\n",
        "**Bonus:**\r\n",
        "* if the number is a multiple of 4, print out a different message.\r\n",
        "* Ask the user for two numbers: one number to check (call it num) and one number to divide by (check).  If check divides evenly into num, tell that to the user.  If not, print a different appropriate message.\r\n",
        "* Write a custom function for finding whether the number is even or odd and call it in your main program code.\r\n",
        "\r\n",
        "\r\n",
        "\r\n",
        "\r\n",
        "\r\n"
      ]
    },
    {
      "cell_type": "code",
      "metadata": {
        "id": "l3PpjTi8q3zC",
        "colab": {
          "base_uri": "https://localhost:8080/"
        },
        "outputId": "5deaf8cf-6a93-4bab-e603-dee5892da131"
      },
      "source": [
        "x = input(\"Input a number plz:\")\n",
        "if int(x)%2 == 0:\n",
        "  print(\"It's an even number.\")\n",
        "else:\n",
        "  print(\"It's an odd number.\")"
      ],
      "execution_count": 18,
      "outputs": [
        {
          "output_type": "stream",
          "text": [
            "Input a number plz:3\n",
            "It's an odd number.\n"
          ],
          "name": "stdout"
        }
      ]
    },
    {
      "cell_type": "code",
      "metadata": {
        "colab": {
          "base_uri": "https://localhost:8080/"
        },
        "id": "V7UURg4B_tQ_",
        "outputId": "c166cca4-7f2e-4ff4-e395-058e127d0940"
      },
      "source": [
        "x = input(\"Input a number plz:\")\n",
        "if int(x)%4 == 0:\n",
        "  print(\"It's not only an even number, but also a multiple of 4.\")\n",
        "elif int(x)%2 == 0:\n",
        "  print(\"It's an even number\")\n",
        "else:\n",
        "  print(\"It's an odd number.\")"
      ],
      "execution_count": 28,
      "outputs": [
        {
          "output_type": "stream",
          "text": [
            "Input a number plz:4\n",
            "It's not only an even number, but also a multiple of 4.\n"
          ],
          "name": "stdout"
        }
      ]
    },
    {
      "cell_type": "code",
      "metadata": {
        "colab": {
          "base_uri": "https://localhost:8080/"
        },
        "id": "C9-6RY1r-3AA",
        "outputId": "27fbbe6f-13e6-4f1f-8894-2487cc5c3e6b"
      },
      "source": [
        "num = input(\"Input a number as a divisior plz:\")\n",
        "check = input(\"Input a number as a dividend plz:\")\n",
        "if int(num)%2 == 0 and int(num)%4 == 0:\n",
        "  print(\"Num's not only an even number, but also a multiple of 4.\")\n",
        "elif int(num)%2 == 0:\n",
        "  print(\"Num's an even number\")\n",
        "else:\n",
        "  print(\"Num's an odd number.\")\n",
        "\n",
        "if int(check)%int(num) == 0:\n",
        "  print(\"The check can be divided evenly into num.\")\n",
        "else:\n",
        "  print(\"The check can not be divided evenly into num.\")"
      ],
      "execution_count": 11,
      "outputs": [
        {
          "output_type": "stream",
          "text": [
            "Input a number as a divisior plz:2\n",
            "Input a number as a dividend plz:7\n",
            "Num's an even number\n",
            "The check can not be divided evenly into num.\n"
          ],
          "name": "stdout"
        }
      ]
    },
    {
      "cell_type": "code",
      "metadata": {
        "colab": {
          "base_uri": "https://localhost:8080/"
        },
        "id": "qf6RkWwuCLyX",
        "outputId": "71cd22cc-17ee-45a1-dd68-859b1eb2f791"
      },
      "source": [
        "def oddeven (x):\n",
        "  if int(x)%2 == 0:\n",
        "    return True\n",
        "  else:\n",
        "    return False\n",
        "\n",
        "x = input(\"Input a number plz:\")\n",
        "if(oddeven(x)):\n",
        "  print(\"It's an even number.\")\n",
        "else:\n",
        "  print(\"It's an odd number.\") "
      ],
      "execution_count": 67,
      "outputs": [
        {
          "output_type": "stream",
          "text": [
            "Input a number plz:9\n",
            "It's an odd number.\n"
          ],
          "name": "stdout"
        }
      ]
    },
    {
      "cell_type": "markdown",
      "metadata": {
        "id": "j0aCubXkEui8"
      },
      "source": [
        "Make a two-player Rock-Paper-Scissors game. (Hint: Ask for player plays (using input), compare them, print out a message of congratulations to the winner, and ask if the players want to start a new game)​\r\n",
        "\r\n",
        "\r\n",
        "*  Remember the rules:​\r\n",
        "*  Rock beats scissors​\r\n",
        "*  Scissors beats paper​\r\n",
        "*  Paper beats rock\r\n",
        "\r\n",
        "\r\n",
        "\r\n",
        "\r\n",
        "\r\n",
        "\r\n"
      ]
    },
    {
      "cell_type": "code",
      "metadata": {
        "colab": {
          "base_uri": "https://localhost:8080/"
        },
        "id": "fskQOLHtFIKH",
        "outputId": "553ba192-3768-4bad-9a29-28712ab32365"
      },
      "source": [
        "def play():\n",
        "  player1 = input(\"Player1, input your choice in lowercase letters plz:\")\n",
        "  player2 = input(\"Player2, input your choice in lowercase letters plz:\")\n",
        "  if player1 == 'rock' and player2 == 'scissors':\n",
        "    print(\"Congratulations to player1!\")\n",
        "  elif player1 == 'rock' and player2 == 'rock':\n",
        "    print(\"No winners!\")\n",
        "  elif player1 == 'rock':\n",
        "    print(\"Congratulations to player2!\")\n",
        "\n",
        "\n",
        "  if player1 == 'scissors' and player2 == 'paper':\n",
        "    print(\"Congratulations to player1!\")\n",
        "  elif player1 == 'scissors' and player2 == 'scissors':\n",
        "    print(\"No winners!\")\n",
        "  elif player1 == 'scissors':\n",
        "    print(\"Congratulations to player2!\")\n",
        "\n",
        "  if player1 == 'paper' and player2 == 'rock':\n",
        "    print(\"Congratulations to player1!\")\n",
        "  elif player1 == 'paper' and player2 == 'paper':\n",
        "    print(\"No winners!\")\n",
        "  elif player1 == 'paper':\n",
        "    print(\"Congratulations to player2!\")\n",
        "\n",
        "play()\n",
        "\n",
        "m = True\n",
        "while m:\n",
        "  ques = input(\"If you want to start a new game, say yes or no:\")\n",
        "  if ques == 'yes':\n",
        "    play()\n",
        "  else:\n",
        "    print(\"Thank you!\")\n",
        "    m = False\n"
      ],
      "execution_count": 56,
      "outputs": [
        {
          "output_type": "stream",
          "text": [
            "Player1, input your choice in lowercase letters plz:rock\n",
            "Player2, input your choice in lowercase letters plz:rock\n",
            "No winners!\n",
            "If you want to start a new game, say yes or no:no\n",
            "Thank you!\n"
          ],
          "name": "stdout"
        }
      ]
    }
  ]
}
