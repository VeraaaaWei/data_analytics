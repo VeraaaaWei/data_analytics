{
  "nbformat": 4,
  "nbformat_minor": 0,
  "metadata": {
    "colab": {
      "name": "Pandas.ipynb",
      "provenance": [],
      "collapsed_sections": [],
      "authorship_tag": "ABX9TyOKU6o2AA/XBMOrmTCvc7lY",
      "include_colab_link": true
    },
    "kernelspec": {
      "name": "python3",
      "display_name": "Python 3"
    }
  },
  "cells": [
    {
      "cell_type": "markdown",
      "metadata": {
        "id": "view-in-github",
        "colab_type": "text"
      },
      "source": [
        "<a href=\"https://colab.research.google.com/github/VeraaaaWei/data_analytics/blob/Python/1.13%20Pandas.ipynb\" target=\"_parent\"><img src=\"https://colab.research.google.com/assets/colab-badge.svg\" alt=\"Open In Colab\"/></a>"
      ]
    },
    {
      "cell_type": "code",
      "metadata": {
        "id": "6clTzPpK8Unz"
      },
      "source": [
        "import numpy as np\n",
        "import pandas as pd"
      ],
      "execution_count": 1,
      "outputs": []
    },
    {
      "cell_type": "code",
      "metadata": {
        "colab": {
          "base_uri": "https://localhost:8080/"
        },
        "id": "deVGWiER87dT",
        "outputId": "c4da31da-f6de-482e-cfaa-c8d752c67989"
      },
      "source": [
        "labels = ['a','b','c']\n",
        "dat = [1,22,3]\n",
        "arr = np.array(dat)\n",
        "print(arr)\n",
        "\n",
        "d = {'a':1, 'b':22, 'c': 3}\n",
        "print(d)\n",
        "pd.Series(data = dat, index = labels)"
      ],
      "execution_count": 7,
      "outputs": [
        {
          "output_type": "stream",
          "text": [
            "[ 1 22  3]\n",
            "{'a': 1, 'b': 22, 'c': 3}\n"
          ],
          "name": "stdout"
        },
        {
          "output_type": "execute_result",
          "data": {
            "text/plain": [
              "a     1\n",
              "b    22\n",
              "c     3\n",
              "dtype: int64"
            ]
          },
          "metadata": {
            "tags": []
          },
          "execution_count": 7
        }
      ]
    },
    {
      "cell_type": "code",
      "metadata": {
        "colab": {
          "base_uri": "https://localhost:8080/",
          "height": 204
        },
        "id": "eB0PHZ4L-mLc",
        "outputId": "9dec9017-7583-4ddb-d474-0bcdb89857ee"
      },
      "source": [
        "from numpy.random import randn\n",
        "np.random.seed(123)\n",
        "\n",
        "df = pd.DataFrame(randn(5,4),['A','B','C','D','E',],['W','X','Y','Z'])\n",
        "df\n",
        "#df1 = df['W']\n",
        "#df1"
      ],
      "execution_count": 11,
      "outputs": [
        {
          "output_type": "execute_result",
          "data": {
            "text/html": [
              "<div>\n",
              "<style scoped>\n",
              "    .dataframe tbody tr th:only-of-type {\n",
              "        vertical-align: middle;\n",
              "    }\n",
              "\n",
              "    .dataframe tbody tr th {\n",
              "        vertical-align: top;\n",
              "    }\n",
              "\n",
              "    .dataframe thead th {\n",
              "        text-align: right;\n",
              "    }\n",
              "</style>\n",
              "<table border=\"1\" class=\"dataframe\">\n",
              "  <thead>\n",
              "    <tr style=\"text-align: right;\">\n",
              "      <th></th>\n",
              "      <th>W</th>\n",
              "      <th>X</th>\n",
              "      <th>Y</th>\n",
              "      <th>Z</th>\n",
              "    </tr>\n",
              "  </thead>\n",
              "  <tbody>\n",
              "    <tr>\n",
              "      <th>A</th>\n",
              "      <td>-1.085631</td>\n",
              "      <td>0.997345</td>\n",
              "      <td>0.282978</td>\n",
              "      <td>-1.506295</td>\n",
              "    </tr>\n",
              "    <tr>\n",
              "      <th>B</th>\n",
              "      <td>-0.578600</td>\n",
              "      <td>1.651437</td>\n",
              "      <td>-2.426679</td>\n",
              "      <td>-0.428913</td>\n",
              "    </tr>\n",
              "    <tr>\n",
              "      <th>C</th>\n",
              "      <td>1.265936</td>\n",
              "      <td>-0.866740</td>\n",
              "      <td>-0.678886</td>\n",
              "      <td>-0.094709</td>\n",
              "    </tr>\n",
              "    <tr>\n",
              "      <th>D</th>\n",
              "      <td>1.491390</td>\n",
              "      <td>-0.638902</td>\n",
              "      <td>-0.443982</td>\n",
              "      <td>-0.434351</td>\n",
              "    </tr>\n",
              "    <tr>\n",
              "      <th>E</th>\n",
              "      <td>2.205930</td>\n",
              "      <td>2.186786</td>\n",
              "      <td>1.004054</td>\n",
              "      <td>0.386186</td>\n",
              "    </tr>\n",
              "  </tbody>\n",
              "</table>\n",
              "</div>"
            ],
            "text/plain": [
              "          W         X         Y         Z\n",
              "A -1.085631  0.997345  0.282978 -1.506295\n",
              "B -0.578600  1.651437 -2.426679 -0.428913\n",
              "C  1.265936 -0.866740 -0.678886 -0.094709\n",
              "D  1.491390 -0.638902 -0.443982 -0.434351\n",
              "E  2.205930  2.186786  1.004054  0.386186"
            ]
          },
          "metadata": {
            "tags": []
          },
          "execution_count": 11
        }
      ]
    },
    {
      "cell_type": "code",
      "metadata": {
        "colab": {
          "base_uri": "https://localhost:8080/"
        },
        "id": "xy1buP2w_xu-",
        "outputId": "d7690eda-a3ad-4f78-afa8-49c79528edad"
      },
      "source": [
        "from numpy.random import randn\n",
        "np.random.seed(123)\n",
        "\n",
        "df = pd.DataFrame(randn(5,4),['A','B','C','D','E',],['W','X','Y','Z'])\n",
        "df\n",
        "df1 = df['W']\n",
        "df1"
      ],
      "execution_count": 19,
      "outputs": [
        {
          "output_type": "execute_result",
          "data": {
            "text/plain": [
              "A   -1.085631\n",
              "B   -0.578600\n",
              "C    1.265936\n",
              "D    1.491390\n",
              "E    2.205930\n",
              "Name: W, dtype: float64"
            ]
          },
          "metadata": {
            "tags": []
          },
          "execution_count": 19
        }
      ]
    },
    {
      "cell_type": "code",
      "metadata": {
        "colab": {
          "base_uri": "https://localhost:8080/"
        },
        "id": "ZvBvnFTCCfjm",
        "outputId": "2c0fef20-62b7-435b-855c-3b55a51acb25"
      },
      "source": [
        "df[\"N\"] = df ['W'] + df['Y']\n",
        "df['N']"
      ],
      "execution_count": 21,
      "outputs": [
        {
          "output_type": "execute_result",
          "data": {
            "text/plain": [
              "A   -0.802652\n",
              "B   -3.005279\n",
              "C    0.587050\n",
              "D    1.047408\n",
              "E    3.209984\n",
              "Name: N, dtype: float64"
            ]
          },
          "metadata": {
            "tags": []
          },
          "execution_count": 21
        }
      ]
    },
    {
      "cell_type": "code",
      "metadata": {
        "colab": {
          "base_uri": "https://localhost:8080/",
          "height": 204
        },
        "id": "pV_jrycWC2an",
        "outputId": "ea326218-75ce-4224-9454-e7c98877ceff"
      },
      "source": [
        "df2A =df [ ['W' ,'Y']]\n",
        "df2A"
      ],
      "execution_count": 30,
      "outputs": [
        {
          "output_type": "execute_result",
          "data": {
            "text/html": [
              "<div>\n",
              "<style scoped>\n",
              "    .dataframe tbody tr th:only-of-type {\n",
              "        vertical-align: middle;\n",
              "    }\n",
              "\n",
              "    .dataframe tbody tr th {\n",
              "        vertical-align: top;\n",
              "    }\n",
              "\n",
              "    .dataframe thead th {\n",
              "        text-align: right;\n",
              "    }\n",
              "</style>\n",
              "<table border=\"1\" class=\"dataframe\">\n",
              "  <thead>\n",
              "    <tr style=\"text-align: right;\">\n",
              "      <th></th>\n",
              "      <th>W</th>\n",
              "      <th>Y</th>\n",
              "    </tr>\n",
              "  </thead>\n",
              "  <tbody>\n",
              "    <tr>\n",
              "      <th>A</th>\n",
              "      <td>-1.085631</td>\n",
              "      <td>0.282978</td>\n",
              "    </tr>\n",
              "    <tr>\n",
              "      <th>B</th>\n",
              "      <td>-0.578600</td>\n",
              "      <td>-2.426679</td>\n",
              "    </tr>\n",
              "    <tr>\n",
              "      <th>C</th>\n",
              "      <td>1.265936</td>\n",
              "      <td>-0.678886</td>\n",
              "    </tr>\n",
              "    <tr>\n",
              "      <th>D</th>\n",
              "      <td>1.491390</td>\n",
              "      <td>-0.443982</td>\n",
              "    </tr>\n",
              "    <tr>\n",
              "      <th>E</th>\n",
              "      <td>2.205930</td>\n",
              "      <td>1.004054</td>\n",
              "    </tr>\n",
              "  </tbody>\n",
              "</table>\n",
              "</div>"
            ],
            "text/plain": [
              "          W         Y\n",
              "A -1.085631  0.282978\n",
              "B -0.578600 -2.426679\n",
              "C  1.265936 -0.678886\n",
              "D  1.491390 -0.443982\n",
              "E  2.205930  1.004054"
            ]
          },
          "metadata": {
            "tags": []
          },
          "execution_count": 30
        }
      ]
    },
    {
      "cell_type": "code",
      "metadata": {
        "colab": {
          "base_uri": "https://localhost:8080/",
          "height": 204
        },
        "id": "rEJkdmeiDfUu",
        "outputId": "a470c93f-f6c1-4caa-cfc6-c9cecc3c158d"
      },
      "source": [
        "df3 = df.drop ('E',axis = 0)\n",
        "\n",
        "df3a = df.drop ('W',axis = 1)\n",
        "df3a"
      ],
      "execution_count": 26,
      "outputs": [
        {
          "output_type": "execute_result",
          "data": {
            "text/html": [
              "<div>\n",
              "<style scoped>\n",
              "    .dataframe tbody tr th:only-of-type {\n",
              "        vertical-align: middle;\n",
              "    }\n",
              "\n",
              "    .dataframe tbody tr th {\n",
              "        vertical-align: top;\n",
              "    }\n",
              "\n",
              "    .dataframe thead th {\n",
              "        text-align: right;\n",
              "    }\n",
              "</style>\n",
              "<table border=\"1\" class=\"dataframe\">\n",
              "  <thead>\n",
              "    <tr style=\"text-align: right;\">\n",
              "      <th></th>\n",
              "      <th>X</th>\n",
              "      <th>Y</th>\n",
              "      <th>Z</th>\n",
              "      <th>N</th>\n",
              "    </tr>\n",
              "  </thead>\n",
              "  <tbody>\n",
              "    <tr>\n",
              "      <th>A</th>\n",
              "      <td>0.997345</td>\n",
              "      <td>0.282978</td>\n",
              "      <td>-1.506295</td>\n",
              "      <td>-0.802652</td>\n",
              "    </tr>\n",
              "    <tr>\n",
              "      <th>B</th>\n",
              "      <td>1.651437</td>\n",
              "      <td>-2.426679</td>\n",
              "      <td>-0.428913</td>\n",
              "      <td>-3.005279</td>\n",
              "    </tr>\n",
              "    <tr>\n",
              "      <th>C</th>\n",
              "      <td>-0.866740</td>\n",
              "      <td>-0.678886</td>\n",
              "      <td>-0.094709</td>\n",
              "      <td>0.587050</td>\n",
              "    </tr>\n",
              "    <tr>\n",
              "      <th>D</th>\n",
              "      <td>-0.638902</td>\n",
              "      <td>-0.443982</td>\n",
              "      <td>-0.434351</td>\n",
              "      <td>1.047408</td>\n",
              "    </tr>\n",
              "    <tr>\n",
              "      <th>E</th>\n",
              "      <td>2.186786</td>\n",
              "      <td>1.004054</td>\n",
              "      <td>0.386186</td>\n",
              "      <td>3.209984</td>\n",
              "    </tr>\n",
              "  </tbody>\n",
              "</table>\n",
              "</div>"
            ],
            "text/plain": [
              "          X         Y         Z         N\n",
              "A  0.997345  0.282978 -1.506295 -0.802652\n",
              "B  1.651437 -2.426679 -0.428913 -3.005279\n",
              "C -0.866740 -0.678886 -0.094709  0.587050\n",
              "D -0.638902 -0.443982 -0.434351  1.047408\n",
              "E  2.186786  1.004054  0.386186  3.209984"
            ]
          },
          "metadata": {
            "tags": []
          },
          "execution_count": 26
        }
      ]
    },
    {
      "cell_type": "code",
      "metadata": {
        "colab": {
          "base_uri": "https://localhost:8080/"
        },
        "id": "9nLApUn7D4c4",
        "outputId": "9f97cbbf-e935-4e34-e84a-39382e609caf"
      },
      "source": [
        "df4 = df.loc['C']\n",
        "df4\n",
        "df5 = df.iloc[2]\n",
        "df5"
      ],
      "execution_count": 28,
      "outputs": [
        {
          "output_type": "execute_result",
          "data": {
            "text/plain": [
              "W    1.265936\n",
              "X   -0.866740\n",
              "Y   -0.678886\n",
              "Z   -0.094709\n",
              "N    0.587050\n",
              "Name: C, dtype: float64"
            ]
          },
          "metadata": {
            "tags": []
          },
          "execution_count": 28
        }
      ]
    },
    {
      "cell_type": "code",
      "metadata": {
        "colab": {
          "base_uri": "https://localhost:8080/",
          "height": 204
        },
        "id": "1IkVuOPwEQM8",
        "outputId": "415643b7-8338-4f76-fa57-1b118b8b8397"
      },
      "source": [
        "df\n",
        "df>0\n",
        "booldf = df>0\n",
        "booldf"
      ],
      "execution_count": 29,
      "outputs": [
        {
          "output_type": "execute_result",
          "data": {
            "text/html": [
              "<div>\n",
              "<style scoped>\n",
              "    .dataframe tbody tr th:only-of-type {\n",
              "        vertical-align: middle;\n",
              "    }\n",
              "\n",
              "    .dataframe tbody tr th {\n",
              "        vertical-align: top;\n",
              "    }\n",
              "\n",
              "    .dataframe thead th {\n",
              "        text-align: right;\n",
              "    }\n",
              "</style>\n",
              "<table border=\"1\" class=\"dataframe\">\n",
              "  <thead>\n",
              "    <tr style=\"text-align: right;\">\n",
              "      <th></th>\n",
              "      <th>W</th>\n",
              "      <th>X</th>\n",
              "      <th>Y</th>\n",
              "      <th>Z</th>\n",
              "      <th>N</th>\n",
              "    </tr>\n",
              "  </thead>\n",
              "  <tbody>\n",
              "    <tr>\n",
              "      <th>A</th>\n",
              "      <td>False</td>\n",
              "      <td>True</td>\n",
              "      <td>True</td>\n",
              "      <td>False</td>\n",
              "      <td>False</td>\n",
              "    </tr>\n",
              "    <tr>\n",
              "      <th>B</th>\n",
              "      <td>False</td>\n",
              "      <td>True</td>\n",
              "      <td>False</td>\n",
              "      <td>False</td>\n",
              "      <td>False</td>\n",
              "    </tr>\n",
              "    <tr>\n",
              "      <th>C</th>\n",
              "      <td>True</td>\n",
              "      <td>False</td>\n",
              "      <td>False</td>\n",
              "      <td>False</td>\n",
              "      <td>True</td>\n",
              "    </tr>\n",
              "    <tr>\n",
              "      <th>D</th>\n",
              "      <td>True</td>\n",
              "      <td>False</td>\n",
              "      <td>False</td>\n",
              "      <td>False</td>\n",
              "      <td>True</td>\n",
              "    </tr>\n",
              "    <tr>\n",
              "      <th>E</th>\n",
              "      <td>True</td>\n",
              "      <td>True</td>\n",
              "      <td>True</td>\n",
              "      <td>True</td>\n",
              "      <td>True</td>\n",
              "    </tr>\n",
              "  </tbody>\n",
              "</table>\n",
              "</div>"
            ],
            "text/plain": [
              "       W      X      Y      Z      N\n",
              "A  False   True   True  False  False\n",
              "B  False   True  False  False  False\n",
              "C   True  False  False  False   True\n",
              "D   True  False  False  False   True\n",
              "E   True   True   True   True   True"
            ]
          },
          "metadata": {
            "tags": []
          },
          "execution_count": 29
        }
      ]
    },
    {
      "cell_type": "code",
      "metadata": {
        "colab": {
          "base_uri": "https://localhost:8080/",
          "height": 204
        },
        "id": "EZIsgZznF0qa",
        "outputId": "611ddbe4-c45b-4a0b-c646-79aa8bb3500a"
      },
      "source": [
        "#df[booldf]\n",
        "df[df>0]"
      ],
      "execution_count": 39,
      "outputs": [
        {
          "output_type": "execute_result",
          "data": {
            "text/html": [
              "<div>\n",
              "<style scoped>\n",
              "    .dataframe tbody tr th:only-of-type {\n",
              "        vertical-align: middle;\n",
              "    }\n",
              "\n",
              "    .dataframe tbody tr th {\n",
              "        vertical-align: top;\n",
              "    }\n",
              "\n",
              "    .dataframe thead th {\n",
              "        text-align: right;\n",
              "    }\n",
              "</style>\n",
              "<table border=\"1\" class=\"dataframe\">\n",
              "  <thead>\n",
              "    <tr style=\"text-align: right;\">\n",
              "      <th></th>\n",
              "      <th>W</th>\n",
              "      <th>X</th>\n",
              "      <th>Y</th>\n",
              "      <th>Z</th>\n",
              "      <th>N</th>\n",
              "    </tr>\n",
              "  </thead>\n",
              "  <tbody>\n",
              "    <tr>\n",
              "      <th>A</th>\n",
              "      <td>NaN</td>\n",
              "      <td>0.997345</td>\n",
              "      <td>0.282978</td>\n",
              "      <td>NaN</td>\n",
              "      <td>NaN</td>\n",
              "    </tr>\n",
              "    <tr>\n",
              "      <th>B</th>\n",
              "      <td>NaN</td>\n",
              "      <td>1.651437</td>\n",
              "      <td>NaN</td>\n",
              "      <td>NaN</td>\n",
              "      <td>NaN</td>\n",
              "    </tr>\n",
              "    <tr>\n",
              "      <th>C</th>\n",
              "      <td>1.265936</td>\n",
              "      <td>NaN</td>\n",
              "      <td>NaN</td>\n",
              "      <td>NaN</td>\n",
              "      <td>0.587050</td>\n",
              "    </tr>\n",
              "    <tr>\n",
              "      <th>D</th>\n",
              "      <td>1.491390</td>\n",
              "      <td>NaN</td>\n",
              "      <td>NaN</td>\n",
              "      <td>NaN</td>\n",
              "      <td>1.047408</td>\n",
              "    </tr>\n",
              "    <tr>\n",
              "      <th>E</th>\n",
              "      <td>2.205930</td>\n",
              "      <td>2.186786</td>\n",
              "      <td>1.004054</td>\n",
              "      <td>0.386186</td>\n",
              "      <td>3.209984</td>\n",
              "    </tr>\n",
              "  </tbody>\n",
              "</table>\n",
              "</div>"
            ],
            "text/plain": [
              "          W         X         Y         Z         N\n",
              "A       NaN  0.997345  0.282978       NaN       NaN\n",
              "B       NaN  1.651437       NaN       NaN       NaN\n",
              "C  1.265936       NaN       NaN       NaN  0.587050\n",
              "D  1.491390       NaN       NaN       NaN  1.047408\n",
              "E  2.205930  2.186786  1.004054  0.386186  3.209984"
            ]
          },
          "metadata": {
            "tags": []
          },
          "execution_count": 39
        }
      ]
    },
    {
      "cell_type": "code",
      "metadata": {
        "colab": {
          "base_uri": "https://localhost:8080/"
        },
        "id": "uveAdA04GOSd",
        "outputId": "62285900-b92b-4600-8ec2-b85806d51565"
      },
      "source": [
        "df8 = df['Z'] >0\n",
        "df8"
      ],
      "execution_count": 40,
      "outputs": [
        {
          "output_type": "execute_result",
          "data": {
            "text/plain": [
              "A    False\n",
              "B    False\n",
              "C    False\n",
              "D    False\n",
              "E     True\n",
              "Name: Z, dtype: bool"
            ]
          },
          "metadata": {
            "tags": []
          },
          "execution_count": 40
        }
      ]
    },
    {
      "cell_type": "code",
      "metadata": {
        "colab": {
          "base_uri": "https://localhost:8080/",
          "height": 142
        },
        "id": "bOnTEhV6HHuF",
        "outputId": "c9c25160-c211-4524-caa0-b7fdd7507c5a"
      },
      "source": [
        "df9 = df[df['W']>0]\n",
        "df9"
      ],
      "execution_count": 41,
      "outputs": [
        {
          "output_type": "execute_result",
          "data": {
            "text/html": [
              "<div>\n",
              "<style scoped>\n",
              "    .dataframe tbody tr th:only-of-type {\n",
              "        vertical-align: middle;\n",
              "    }\n",
              "\n",
              "    .dataframe tbody tr th {\n",
              "        vertical-align: top;\n",
              "    }\n",
              "\n",
              "    .dataframe thead th {\n",
              "        text-align: right;\n",
              "    }\n",
              "</style>\n",
              "<table border=\"1\" class=\"dataframe\">\n",
              "  <thead>\n",
              "    <tr style=\"text-align: right;\">\n",
              "      <th></th>\n",
              "      <th>W</th>\n",
              "      <th>X</th>\n",
              "      <th>Y</th>\n",
              "      <th>Z</th>\n",
              "      <th>N</th>\n",
              "    </tr>\n",
              "  </thead>\n",
              "  <tbody>\n",
              "    <tr>\n",
              "      <th>C</th>\n",
              "      <td>1.265936</td>\n",
              "      <td>-0.866740</td>\n",
              "      <td>-0.678886</td>\n",
              "      <td>-0.094709</td>\n",
              "      <td>0.587050</td>\n",
              "    </tr>\n",
              "    <tr>\n",
              "      <th>D</th>\n",
              "      <td>1.491390</td>\n",
              "      <td>-0.638902</td>\n",
              "      <td>-0.443982</td>\n",
              "      <td>-0.434351</td>\n",
              "      <td>1.047408</td>\n",
              "    </tr>\n",
              "    <tr>\n",
              "      <th>E</th>\n",
              "      <td>2.205930</td>\n",
              "      <td>2.186786</td>\n",
              "      <td>1.004054</td>\n",
              "      <td>0.386186</td>\n",
              "      <td>3.209984</td>\n",
              "    </tr>\n",
              "  </tbody>\n",
              "</table>\n",
              "</div>"
            ],
            "text/plain": [
              "          W         X         Y         Z         N\n",
              "C  1.265936 -0.866740 -0.678886 -0.094709  0.587050\n",
              "D  1.491390 -0.638902 -0.443982 -0.434351  1.047408\n",
              "E  2.205930  2.186786  1.004054  0.386186  3.209984"
            ]
          },
          "metadata": {
            "tags": []
          },
          "execution_count": 41
        }
      ]
    },
    {
      "cell_type": "code",
      "metadata": {
        "colab": {
          "base_uri": "https://localhost:8080/",
          "height": 204
        },
        "id": "A9Lg4O2HE1mV",
        "outputId": "2213f989-6511-4df8-d4e0-796369b335db"
      },
      "source": [
        "df10 = df.rename(columns={'W':'WW'},inplace = False)\n",
        "df10"
      ],
      "execution_count": 32,
      "outputs": [
        {
          "output_type": "execute_result",
          "data": {
            "text/html": [
              "<div>\n",
              "<style scoped>\n",
              "    .dataframe tbody tr th:only-of-type {\n",
              "        vertical-align: middle;\n",
              "    }\n",
              "\n",
              "    .dataframe tbody tr th {\n",
              "        vertical-align: top;\n",
              "    }\n",
              "\n",
              "    .dataframe thead th {\n",
              "        text-align: right;\n",
              "    }\n",
              "</style>\n",
              "<table border=\"1\" class=\"dataframe\">\n",
              "  <thead>\n",
              "    <tr style=\"text-align: right;\">\n",
              "      <th></th>\n",
              "      <th>WW</th>\n",
              "      <th>X</th>\n",
              "      <th>Y</th>\n",
              "      <th>Z</th>\n",
              "      <th>N</th>\n",
              "    </tr>\n",
              "  </thead>\n",
              "  <tbody>\n",
              "    <tr>\n",
              "      <th>A</th>\n",
              "      <td>-1.085631</td>\n",
              "      <td>0.997345</td>\n",
              "      <td>0.282978</td>\n",
              "      <td>-1.506295</td>\n",
              "      <td>-0.802652</td>\n",
              "    </tr>\n",
              "    <tr>\n",
              "      <th>B</th>\n",
              "      <td>-0.578600</td>\n",
              "      <td>1.651437</td>\n",
              "      <td>-2.426679</td>\n",
              "      <td>-0.428913</td>\n",
              "      <td>-3.005279</td>\n",
              "    </tr>\n",
              "    <tr>\n",
              "      <th>C</th>\n",
              "      <td>1.265936</td>\n",
              "      <td>-0.866740</td>\n",
              "      <td>-0.678886</td>\n",
              "      <td>-0.094709</td>\n",
              "      <td>0.587050</td>\n",
              "    </tr>\n",
              "    <tr>\n",
              "      <th>D</th>\n",
              "      <td>1.491390</td>\n",
              "      <td>-0.638902</td>\n",
              "      <td>-0.443982</td>\n",
              "      <td>-0.434351</td>\n",
              "      <td>1.047408</td>\n",
              "    </tr>\n",
              "    <tr>\n",
              "      <th>E</th>\n",
              "      <td>2.205930</td>\n",
              "      <td>2.186786</td>\n",
              "      <td>1.004054</td>\n",
              "      <td>0.386186</td>\n",
              "      <td>3.209984</td>\n",
              "    </tr>\n",
              "  </tbody>\n",
              "</table>\n",
              "</div>"
            ],
            "text/plain": [
              "         WW         X         Y         Z         N\n",
              "A -1.085631  0.997345  0.282978 -1.506295 -0.802652\n",
              "B -0.578600  1.651437 -2.426679 -0.428913 -3.005279\n",
              "C  1.265936 -0.866740 -0.678886 -0.094709  0.587050\n",
              "D  1.491390 -0.638902 -0.443982 -0.434351  1.047408\n",
              "E  2.205930  2.186786  1.004054  0.386186  3.209984"
            ]
          },
          "metadata": {
            "tags": []
          },
          "execution_count": 32
        }
      ]
    },
    {
      "cell_type": "code",
      "metadata": {
        "colab": {
          "base_uri": "https://localhost:8080/",
          "height": 632
        },
        "id": "yL89QmisIg2g",
        "outputId": "1bb13c16-762f-4c63-8984-dd384b78518a"
      },
      "source": [
        "import pandas as pd\n",
        "import matplotlib.pyplot as plt\n",
        "\n",
        "df11 = pd.read_csv('https://raw.githubusercontent.com/CunyLaguardiaDataAnalytics/datasets/master/311_Service_Requests_from_2019May.csv')\n",
        "df11.describe()\n",
        "df11.head()\n",
        "#df11.tail()"
      ],
      "execution_count": 68,
      "outputs": [
        {
          "output_type": "stream",
          "text": [
            "/usr/local/lib/python3.6/dist-packages/IPython/core/interactiveshell.py:2718: DtypeWarning: Columns (6) have mixed types.Specify dtype option on import or set low_memory=False.\n",
            "  interactivity=interactivity, compiler=compiler, result=result)\n"
          ],
          "name": "stderr"
        },
        {
          "output_type": "execute_result",
          "data": {
            "text/html": [
              "<div>\n",
              "<style scoped>\n",
              "    .dataframe tbody tr th:only-of-type {\n",
              "        vertical-align: middle;\n",
              "    }\n",
              "\n",
              "    .dataframe tbody tr th {\n",
              "        vertical-align: top;\n",
              "    }\n",
              "\n",
              "    .dataframe thead th {\n",
              "        text-align: right;\n",
              "    }\n",
              "</style>\n",
              "<table border=\"1\" class=\"dataframe\">\n",
              "  <thead>\n",
              "    <tr style=\"text-align: right;\">\n",
              "      <th></th>\n",
              "      <th>Unique Key</th>\n",
              "      <th>Created Date</th>\n",
              "      <th>Closed Date</th>\n",
              "      <th>Agency</th>\n",
              "      <th>Complaint Type</th>\n",
              "      <th>Location Type</th>\n",
              "      <th>Incident Zip</th>\n",
              "      <th>Incident Address</th>\n",
              "      <th>Street Name</th>\n",
              "      <th>Address Type</th>\n",
              "      <th>City</th>\n",
              "      <th>Landmark</th>\n",
              "      <th>Facility Type</th>\n",
              "      <th>Status</th>\n",
              "      <th>Due Date</th>\n",
              "      <th>Resolution Description</th>\n",
              "      <th>BBL</th>\n",
              "      <th>Borough</th>\n",
              "      <th>Latitude</th>\n",
              "      <th>Longitude</th>\n",
              "      <th>Location</th>\n",
              "    </tr>\n",
              "  </thead>\n",
              "  <tbody>\n",
              "    <tr>\n",
              "      <th>0</th>\n",
              "      <td>42680103</td>\n",
              "      <td>5/1/2019 0:00</td>\n",
              "      <td>5/16/2019 21:45</td>\n",
              "      <td>DEP</td>\n",
              "      <td>Water System</td>\n",
              "      <td>NaN</td>\n",
              "      <td>11420</td>\n",
              "      <td>127-16 111 AVENUE</td>\n",
              "      <td>111 AVENUE</td>\n",
              "      <td>ADDRESS</td>\n",
              "      <td>South Ozone Park</td>\n",
              "      <td>NaN</td>\n",
              "      <td>NaN</td>\n",
              "      <td>Closed</td>\n",
              "      <td>NaN</td>\n",
              "      <td>The Department of Environment Protection inspe...</td>\n",
              "      <td>4.116320e+09</td>\n",
              "      <td>QUEENS</td>\n",
              "      <td>40.682565</td>\n",
              "      <td>-73.814060</td>\n",
              "      <td>(40.682565064146196, -73.81406015056832)</td>\n",
              "    </tr>\n",
              "    <tr>\n",
              "      <th>1</th>\n",
              "      <td>42530481</td>\n",
              "      <td>5/1/2019 0:00</td>\n",
              "      <td>5/2/2019 0:00</td>\n",
              "      <td>DOHMH</td>\n",
              "      <td>Food Poisoning</td>\n",
              "      <td>Restaurant/Bar/Deli/Bakery</td>\n",
              "      <td>10011</td>\n",
              "      <td>207 WEST   14 STREET</td>\n",
              "      <td>WEST   14 STREET</td>\n",
              "      <td>ADDRESS</td>\n",
              "      <td>NEW YORK</td>\n",
              "      <td>NaN</td>\n",
              "      <td>NaN</td>\n",
              "      <td>Closed</td>\n",
              "      <td>5/15/2019 22:17</td>\n",
              "      <td>Callers should contact the DOHMH Foodborne Ill...</td>\n",
              "      <td>1.007640e+09</td>\n",
              "      <td>MANHATTAN</td>\n",
              "      <td>40.738791</td>\n",
              "      <td>-74.000224</td>\n",
              "      <td>(40.738790792032844, -74.00022373020307)</td>\n",
              "    </tr>\n",
              "    <tr>\n",
              "      <th>2</th>\n",
              "      <td>42527619</td>\n",
              "      <td>5/1/2019 0:00</td>\n",
              "      <td>5/13/2019 0:00</td>\n",
              "      <td>DOHMH</td>\n",
              "      <td>Food Poisoning</td>\n",
              "      <td>Restaurant/Bar/Deli/Bakery</td>\n",
              "      <td>10025</td>\n",
              "      <td>2664 BROADWAY</td>\n",
              "      <td>BROADWAY</td>\n",
              "      <td>ADDRESS</td>\n",
              "      <td>NEW YORK</td>\n",
              "      <td>NaN</td>\n",
              "      <td>NaN</td>\n",
              "      <td>Closed</td>\n",
              "      <td>5/15/2019 10:04</td>\n",
              "      <td>The Department of Health and Mental Hygiene wi...</td>\n",
              "      <td>1.018730e+09</td>\n",
              "      <td>MANHATTAN</td>\n",
              "      <td>40.798040</td>\n",
              "      <td>-73.969300</td>\n",
              "      <td>(40.79804015465285, -73.96930001020544)</td>\n",
              "    </tr>\n",
              "    <tr>\n",
              "      <th>3</th>\n",
              "      <td>42526597</td>\n",
              "      <td>5/1/2019 0:00</td>\n",
              "      <td>5/2/2019 0:00</td>\n",
              "      <td>DOHMH</td>\n",
              "      <td>Food Poisoning</td>\n",
              "      <td>Restaurant/Bar/Deli/Bakery</td>\n",
              "      <td>11208</td>\n",
              "      <td>624 SOUTH CONDUIT BOULEVARD</td>\n",
              "      <td>SOUTH CONDUIT BOULEVARD</td>\n",
              "      <td>ADDRESS</td>\n",
              "      <td>BROOKLYN</td>\n",
              "      <td>NaN</td>\n",
              "      <td>NaN</td>\n",
              "      <td>Closed</td>\n",
              "      <td>5/15/2019 17:27</td>\n",
              "      <td>The Department of Health and Mental Hygiene wi...</td>\n",
              "      <td>3.042380e+09</td>\n",
              "      <td>BROOKLYN</td>\n",
              "      <td>40.675905</td>\n",
              "      <td>-73.866660</td>\n",
              "      <td>(40.67590510222738, -73.86665990579837)</td>\n",
              "    </tr>\n",
              "    <tr>\n",
              "      <th>4</th>\n",
              "      <td>42526595</td>\n",
              "      <td>5/1/2019 0:00</td>\n",
              "      <td>5/2/2019 0:00</td>\n",
              "      <td>DOHMH</td>\n",
              "      <td>Food Poisoning</td>\n",
              "      <td>Restaurant/Bar/Deli/Bakery</td>\n",
              "      <td>11106</td>\n",
              "      <td>31-91 21 STREET</td>\n",
              "      <td>21 STREET</td>\n",
              "      <td>ADDRESS</td>\n",
              "      <td>Astoria</td>\n",
              "      <td>NaN</td>\n",
              "      <td>NaN</td>\n",
              "      <td>Closed</td>\n",
              "      <td>5/15/2019 17:12</td>\n",
              "      <td>The Department of Health and Mental Hygiene wi...</td>\n",
              "      <td>4.005540e+09</td>\n",
              "      <td>QUEENS</td>\n",
              "      <td>40.765367</td>\n",
              "      <td>-73.931540</td>\n",
              "      <td>(40.76536704921336, -73.93154011254339)</td>\n",
              "    </tr>\n",
              "  </tbody>\n",
              "</table>\n",
              "</div>"
            ],
            "text/plain": [
              "   Unique Key  ...                                  Location\n",
              "0    42680103  ...  (40.682565064146196, -73.81406015056832)\n",
              "1    42530481  ...  (40.738790792032844, -74.00022373020307)\n",
              "2    42527619  ...   (40.79804015465285, -73.96930001020544)\n",
              "3    42526597  ...   (40.67590510222738, -73.86665990579837)\n",
              "4    42526595  ...   (40.76536704921336, -73.93154011254339)\n",
              "\n",
              "[5 rows x 21 columns]"
            ]
          },
          "metadata": {
            "tags": []
          },
          "execution_count": 68
        }
      ]
    },
    {
      "cell_type": "code",
      "metadata": {
        "colab": {
          "base_uri": "https://localhost:8080/",
          "height": 551
        },
        "id": "Dklfi7MKRLiF",
        "outputId": "0cfa49dc-bcf9-4d8a-c1b8-cc16c8f22c69"
      },
      "source": [
        "df11.head()\n",
        "df11.groupby(['Borough'])['Unique Key'].count()\n",
        "df11.groupby(['Borough'])['Unique Key'].count().sort_values(ascending = False)\n",
        "df11.groupby(['Borough'])['Unique Key'].count().plot(kind= 'bar')\n",
        "df12 = df11['Complaint Type'].str.contains('Food')\n",
        "df12"
      ],
      "execution_count": 78,
      "outputs": [
        {
          "output_type": "execute_result",
          "data": {
            "text/plain": [
              "0        False\n",
              "1         True\n",
              "2         True\n",
              "3         True\n",
              "4         True\n",
              "         ...  \n",
              "69632     True\n",
              "69633    False\n",
              "69634     True\n",
              "69635     True\n",
              "69636     True\n",
              "Name: Complaint Type, Length: 69637, dtype: bool"
            ]
          },
          "metadata": {
            "tags": []
          },
          "execution_count": 78
        },
        {
          "output_type": "display_data",
          "data": {
            "image/png": "[encoded data removed]",
            "text/plain": [
              "<Figure size 432x288 with 1 Axes>"
            ]
          },
          "metadata": {
            "tags": [],
            "needs_background": "light"
          }
        }
      ]
    },
    {
      "cell_type": "code",
      "metadata": {
        "colab": {
          "base_uri": "https://localhost:8080/",
          "height": 1000
        },
        "id": "3LuIkhgGLS7o",
        "outputId": "548b75b9-3d9e-407e-b6f5-5bb971d44ba5"
      },
      "source": [
        "%matplotlib inline\n",
        "df3\n",
        "df3.hist()\n",
        "df3.plot()\n",
        "df3.plot(kind='hist')\n",
        "df3.plot(kind='bar')\n"
      ],
      "execution_count": 51,
      "outputs": [
        {
          "output_type": "execute_result",
          "data": {
            "text/plain": [
              "<matplotlib.axes._subplots.AxesSubplot at 0x7f8ab90d97b8>"
            ]
          },
          "metadata": {
            "tags": []
          },
          "execution_count": 51
        },
        {
          "output_type": "display_data",
          "data": {
            "image/png": "[encoded data removed]",
            "text/plain": [
              "<Figure size 432x288 with 6 Axes>"
            ]
          },
          "metadata": {
            "tags": [],
            "needs_background": "light"
          }
        },
        {
          "output_type": "display_data",
          "data": {
            "image/png": "[encoded data removed]",
            "text/plain": [
              "<Figure size 432x288 with 1 Axes>"
            ]
          },
          "metadata": {
            "tags": [],
            "needs_background": "light"
          }
        },
        {
          "output_type": "display_data",
          "data": {
            "image/png": "[encoded data removed]",
            "text/plain": [
              "<Figure size 432x288 with 1 Axes>"
            ]
          },
          "metadata": {
            "tags": [],
            "needs_background": "light"
          }
        },
        {
          "output_type": "display_data",
          "data": {
            "image/png": "[encoded data removed]",
            "text/plain": [
              "<Figure size 432x288 with 1 Axes>"
            ]
          },
          "metadata": {
            "tags": [],
            "needs_background": "light"
          }
        }
      ]
    },
    {
      "cell_type": "code",
      "metadata": {
        "colab": {
          "base_uri": "https://localhost:8080/"
        },
        "id": "ppVvN5PgV9Ls",
        "outputId": "db3bcc52-a47a-42f3-d53e-4788fd5145c1"
      },
      "source": [
        "df51 = {'A':[1,2,np.nan],'B': [3,np.nan,np.nan]}\n",
        "df14 = pd.DataFrame(df51)\n",
        "\n",
        "df14\n",
        "df14.isnull()\n",
        "df14.isnull().sum()\n",
        "df14.isnull().sum().sum()"
      ],
      "execution_count": 83,
      "outputs": [
        {
          "output_type": "execute_result",
          "data": {
            "text/plain": [
              "3"
            ]
          },
          "metadata": {
            "tags": []
          },
          "execution_count": 83
        }
      ]
    }
  ]
}
