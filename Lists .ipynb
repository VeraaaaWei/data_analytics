{
  "nbformat": 4,
  "nbformat_minor": 0,
  "metadata": {
    "colab": {
      "name": "Untitled2.ipynb",
      "provenance": [],
      "authorship_tag": "ABX9TyNzdOmMTDNDa8Ts1bZjmtRx",
      "include_colab_link": true
    },
    "kernelspec": {
      "name": "python3",
      "display_name": "Python 3"
    }
  },
  "cells": [
    {
      "cell_type": "markdown",
      "metadata": {
        "id": "view-in-github",
        "colab_type": "text"
      },
      "source": [
        "<a href=\"https://colab.research.google.com/github/VeraaaaWei/data_analytics/blob/main/1.7.ipynb\" target=\"_parent\"><img src=\"https://colab.research.google.com/assets/colab-badge.svg\" alt=\"Open In Colab\"/></a>"
      ]
    },
    {
      "cell_type": "code",
      "metadata": {
        "colab": {
          "base_uri": "https://localhost:8080/"
        },
        "id": "zMZahEJTtNF_",
        "outputId": "9af206ec-4ee7-4f35-851e-a9ae3439de79"
      },
      "source": [
        "friends = ['Siri', 'Qi','Jeans','Yuexiao']\n",
        "print(friends)\n",
        "print(friends[0])\n",
        "print(friends[1])\n",
        "print(friends[-1])\n",
        "print(friends[-2])\n",
        "\n",
        "message = \"Long time no see,\"\n",
        "print(message + friends[0])\n",
        "print(message + friends[-1])\n",
        "print(message + friends[-2])\n",
        "print(message + friends[1])"
      ],
      "execution_count": 11,
      "outputs": [
        {
          "output_type": "stream",
          "text": [
            "['Siri', 'Qi', 'Jeans', 'Yuexiao']\n",
            "Siri\n",
            "Qi\n",
            "Yuexiao\n",
            "Jeans\n",
            "Long time no see,Siri\n",
            "Long time no see,Yuexiao\n",
            "Long time no see,Jeans\n",
            "Long time no see,Qi\n"
          ],
          "name": "stdout"
        }
      ]
    },
    {
      "cell_type": "code",
      "metadata": {
        "colab": {
          "base_uri": "https://localhost:8080/"
        },
        "id": "cw28sxxoylLN",
        "outputId": "d48b1ab7-6534-4598-8c34-935466248b68"
      },
      "source": [
        "friends = ['Siri', 'Qi','Jeans','Yuexiao']\n",
        "friends[1] = 'Jerry'\n",
        "print(friends)\n",
        "newfriends = ['Xuexue','Yu']\n",
        "friends.append('Xuexue')\n",
        "friends.insert(-2,'Yu')\n",
        "print(friends)"
      ],
      "execution_count": 18,
      "outputs": [
        {
          "output_type": "stream",
          "text": [
            "['Siri', 'Jerry', 'Jeans', 'Yuexiao']\n",
            "['Siri', 'Jerry', 'Jeans', 'Yu', 'Yuexiao', 'Xuexue']\n"
          ],
          "name": "stdout"
        }
      ]
    },
    {
      "cell_type": "code",
      "metadata": {
        "colab": {
          "base_uri": "https://localhost:8080/"
        },
        "id": "redncgIn2iNm",
        "outputId": "723419fe-dd09-4e08-a274-b071221a4311"
      },
      "source": [
        "print(friends)\n",
        "del friends[2]\n",
        "print(friends)"
      ],
      "execution_count": 20,
      "outputs": [
        {
          "output_type": "stream",
          "text": [
            "['Siri', 'Jerry', 'Jeans', 'Yu', 'Yuexiao', 'Xuexue']\n",
            "['Siri', 'Jerry', 'Yu', 'Yuexiao', 'Xuexue']\n"
          ],
          "name": "stdout"
        }
      ]
    },
    {
      "cell_type": "code",
      "metadata": {
        "colab": {
          "base_uri": "https://localhost:8080/"
        },
        "id": "9CMBKuo_2o3J",
        "outputId": "ece74244-584f-49e0-e964-4c72b146d043"
      },
      "source": [
        "print (friends)\n",
        "friends.remove('Yuexiao')\n",
        "print(friends)"
      ],
      "execution_count": 21,
      "outputs": [
        {
          "output_type": "stream",
          "text": [
            "['Siri', 'Jerry', 'Yu', 'Yuexiao', 'Xuexue']\n",
            "['Siri', 'Jerry', 'Yu', 'Xuexue']\n"
          ],
          "name": "stdout"
        }
      ]
    },
    {
      "cell_type": "code",
      "metadata": {
        "colab": {
          "base_uri": "https://localhost:8080/"
        },
        "id": "Lpok_F7C5OAT",
        "outputId": "fe2c13d2-c417-4be0-93c2-343bf30ceb13"
      },
      "source": [
        "foods = ['cherries','watermelons','ice cream']\n",
        "message = \"Let's eat\" \n",
        "print( message + ' ' + foods[0])\n",
        "print( message + ' ' + foods[-1])\n",
        "print( message + ' ' + foods[1])\n",
        "foods.append('burgers')\n",
        "print(foods)\n",
        "foods.remove('ice cream')\n",
        "print(foods)\n",
        "foods.insert(0,'beef')\n",
        "print(foods)\n"
      ],
      "execution_count": 30,
      "outputs": [
        {
          "output_type": "stream",
          "text": [
            "Let's eat cherries\n",
            "Let's eat ice cream\n",
            "Let's eat watermelons\n",
            "['cherries', 'watermelons', 'ice cream', 'burgers']\n",
            "['cherries', 'watermelons', 'burgers']\n",
            "['beef', 'cherries', 'watermelons', 'burgers']\n"
          ],
          "name": "stdout"
        }
      ]
    },
    {
      "cell_type": "code",
      "metadata": {
        "colab": {
          "base_uri": "https://localhost:8080/"
        },
        "id": "Eqbx6cxM7EbW",
        "outputId": "ebe6fa1f-6beb-4d0b-8785-d1aa9396cf71"
      },
      "source": [
        "foods.sort()\n",
        "print(foods)"
      ],
      "execution_count": 29,
      "outputs": [
        {
          "output_type": "stream",
          "text": [
            "['beef', 'burgers', 'cherries', 'watermelons']\n"
          ],
          "name": "stdout"
        }
      ]
    },
    {
      "cell_type": "code",
      "metadata": {
        "colab": {
          "base_uri": "https://localhost:8080/"
        },
        "id": "M-mbE_Tb7L6H",
        "outputId": "17efc42b-8d88-4602-eb13-0e1577299ea3"
      },
      "source": [
        "foods.sort(reverse=True)\n",
        "print(foods)"
      ],
      "execution_count": 31,
      "outputs": [
        {
          "output_type": "stream",
          "text": [
            "['watermelons', 'cherries', 'burgers', 'beef']\n"
          ],
          "name": "stdout"
        }
      ]
    },
    {
      "cell_type": "code",
      "metadata": {
        "colab": {
          "base_uri": "https://localhost:8080/"
        },
        "id": "uS32ZutE79Q4",
        "outputId": "17a448f3-4fc2-43b3-e619-b92814d6bbff"
      },
      "source": [
        "len(foods)"
      ],
      "execution_count": 33,
      "outputs": [
        {
          "output_type": "execute_result",
          "data": {
            "text/plain": [
              "4"
            ]
          },
          "metadata": {
            "tags": []
          },
          "execution_count": 33
        }
      ]
    },
    {
      "cell_type": "code",
      "metadata": {
        "colab": {
          "base_uri": "https://localhost:8080/"
        },
        "id": "y5jwh_KO8Ap9",
        "outputId": "2a6b2116-3407-4027-806a-3fef3904ac6e"
      },
      "source": [
        "travel = [\"Ice Land\", \"Seoul\",\"Califonia\",\"Paris\",\"Yunnan\"]\n",
        "print(travel)\n",
        "travel.sort()\n",
        "print(travel)\n",
        "travel.sort(reverse= True)\n",
        "print(travel)\n",
        "print(sorted(travel))\n",
        "print(travel)"
      ],
      "execution_count": 38,
      "outputs": [
        {
          "output_type": "stream",
          "text": [
            "['Ice Land', 'Seoul', 'Califonia', 'Paris', 'Yunnan']\n",
            "['Califonia', 'Ice Land', 'Paris', 'Seoul', 'Yunnan']\n",
            "['Yunnan', 'Seoul', 'Paris', 'Ice Land', 'Califonia']\n",
            "['Califonia', 'Ice Land', 'Paris', 'Seoul', 'Yunnan']\n",
            "['Yunnan', 'Seoul', 'Paris', 'Ice Land', 'Califonia']\n"
          ],
          "name": "stdout"
        }
      ]
    }
  ]
}
