{
  "nbformat": 4,
  "nbformat_minor": 0,
  "metadata": {
    "colab": {
      "name": "Copy of Practice Exercise for Review011221",
      "provenance": [],
      "collapsed_sections": [],
      "include_colab_link": true
    },
    "kernelspec": {
      "name": "python3",
      "display_name": "Python 3"
    }
  },
  "cells": [
    {
      "cell_type": "markdown",
      "metadata": {
        "id": "view-in-github",
        "colab_type": "text"
      },
      "source": [
        "<a href=\"https://colab.research.google.com/github/VeraaaaWei/data_analytics/blob/Python/Copy_of_Practice_Exercise_for_Review011221.ipynb\" target=\"_parent\"><img src=\"https://colab.research.google.com/assets/colab-badge.svg\" alt=\"Open In Colab\"/></a>"
      ]
    },
    {
      "cell_type": "markdown",
      "metadata": {
        "id": "tXcr7hqpYFIo"
      },
      "source": [
        "1. Write a Python program to sum all the items in a list"
      ]
    },
    {
      "cell_type": "code",
      "metadata": {
        "id": "Htkj5scKX53s",
        "colab": {
          "base_uri": "https://localhost:8080/"
        },
        "outputId": "d1b4ab10-af29-4592-ce49-c94f5a06bcd7"
      },
      "source": [
        "nums = [1,2,3,4,5]\n",
        "\n",
        "sum = 0\n",
        "for x in nums:\n",
        " sum += x\n",
        "print(sum)\n",
        "\n",
        "    "
      ],
      "execution_count": null,
      "outputs": [
        {
          "output_type": "stream",
          "text": [
            "15\n"
          ],
          "name": "stdout"
        }
      ]
    },
    {
      "cell_type": "markdown",
      "metadata": {
        "id": "2P9TAiyYYOcc"
      },
      "source": [
        "2. Write a Python program to count the number of strings where the string length is 2 or more and the first and last character are same from a given list of strings\r\n",
        "* Sample List : ['abc', 'xyz', 'aba', '1221']\r\n",
        "\r\n",
        "\r\n"
      ]
    },
    {
      "cell_type": "code",
      "metadata": {
        "id": "0XL35NokYpBZ",
        "colab": {
          "base_uri": "https://localhost:8080/"
        },
        "outputId": "e30dd203-ac93-4c75-a666-19cf8299504b"
      },
      "source": [
        "def list(List):\n",
        "  num = 0\n",
        "  for x in List:\n",
        "    if len(x) >= 2 and x[0] == x[-1]:\n",
        "      num += 1\n",
        "  return num\n",
        "\n",
        "print(list(['abc', 'xyz', 'aba', '1221']))"
      ],
      "execution_count": 19,
      "outputs": [
        {
          "output_type": "stream",
          "text": [
            "2\n"
          ],
          "name": "stdout"
        }
      ]
    },
    {
      "cell_type": "markdown",
      "metadata": {
        "id": "4lsqufkdYqHg"
      },
      "source": [
        "3. Write a Python function that takes two lists and returns True if they have at least one common member."
      ]
    },
    {
      "cell_type": "code",
      "metadata": {
        "colab": {
          "base_uri": "https://localhost:8080/"
        },
        "id": "I3SdB_6Wikkf",
        "outputId": "26612d7f-463a-45ab-abf4-df4d28cce5a8"
      },
      "source": [
        "def same (List1,List2):\n",
        "  for x in List1:\n",
        "    for y in List2:\n",
        "      if x == y:\n",
        "        return True\n",
        "      else:\n",
        "        return False\n",
        "print(same(['1','2','3'],['8','4','5']))"
      ],
      "execution_count": 20,
      "outputs": [
        {
          "output_type": "stream",
          "text": [
            "False\n"
          ],
          "name": "stdout"
        }
      ]
    },
    {
      "cell_type": "markdown",
      "metadata": {
        "id": "vYfPDaBmYtFo"
      },
      "source": [
        "4. Write a Python program to print a specified list after removing the 0th, 4th and 5th elements.\r\n",
        "* Sample List : ['Red', 'Green', 'White', 'Black', 'Pink', 'Yellow']\r\n",
        "\r\n",
        "\r\n",
        "\r\n",
        "\r\n",
        "\r\n"
      ]
    },
    {
      "cell_type": "code",
      "metadata": {
        "id": "wXCNsI3qZAjB",
        "colab": {
          "base_uri": "https://localhost:8080/"
        },
        "outputId": "0717374b-8197-4252-9462-6911ac204ac0"
      },
      "source": [
        "def function(list):\n",
        "  list.remove(list[0])\n",
        "  list.remove(list[4-1])\n",
        "  list.remove(list[5-2])\n",
        "  return (list)\n",
        "  \n",
        "print (function(['Red', 'Green', 'White', 'Black', 'Pink', 'Yellow']))"
      ],
      "execution_count": 94,
      "outputs": [
        {
          "output_type": "stream",
          "text": [
            "['Green', 'White', 'Black']\n"
          ],
          "name": "stdout"
        }
      ]
    },
    {
      "cell_type": "markdown",
      "metadata": {
        "id": "TR8c2eW_ZBJI"
      },
      "source": [
        ""
      ]
    },
    {
      "cell_type": "markdown",
      "metadata": {
        "id": "6qkBW70uZEkh"
      },
      "source": [
        "5. Write a Python program to print the numbers of a specified list after removing even numbers from it."
      ]
    },
    {
      "cell_type": "code",
      "metadata": {
        "colab": {
          "base_uri": "https://localhost:8080/"
        },
        "id": "lEdeT32-q-Qh",
        "outputId": "16e59fc9-6ace-40a5-c519-9eb318f6c15c"
      },
      "source": [
        "list = [1,2,3,4,5]\n",
        "list2 = []\n",
        "for x in list:\n",
        "    if x%2 != 0:\n",
        "      list2.append(x)\n",
        "print(list2)\n",
        "\n"
      ],
      "execution_count": 50,
      "outputs": [
        {
          "output_type": "stream",
          "text": [
            "[1, 3, 5]\n"
          ],
          "name": "stdout"
        }
      ]
    },
    {
      "cell_type": "markdown",
      "metadata": {
        "id": "iIrq_TfAZQhk"
      },
      "source": [
        "6. Write a Python program to convert a list of characters into a string."
      ]
    },
    {
      "cell_type": "code",
      "metadata": {
        "id": "9hPTJj5gZSnk",
        "colab": {
          "base_uri": "https://localhost:8080/"
        },
        "outputId": "086f30ab-c09d-41a4-d1f1-9de8080b1196"
      },
      "source": [
        "l = ['V', 'e', 'r', 'a']\n",
        "list = ''.join(l)\n",
        "print(list)"
      ],
      "execution_count": 53,
      "outputs": [
        {
          "output_type": "stream",
          "text": [
            "Vera\n"
          ],
          "name": "stdout"
        }
      ]
    },
    {
      "cell_type": "markdown",
      "metadata": {
        "id": "SkdABAMBZgar"
      },
      "source": [
        "8. Write a Python program to count the number of elements in a list within a specified range."
      ]
    },
    {
      "cell_type": "code",
      "metadata": {
        "id": "-7xMT5hwaDsO",
        "colab": {
          "base_uri": "https://localhost:8080/"
        },
        "outputId": "23c58666-692e-4024-eb36-031267dd58c3"
      },
      "source": [
        "list = [1,3,4,2,8,15,27]\n",
        "num= 0\n",
        "for x in list:\n",
        "  if x >=0 and x <11 :\n",
        "    num += 1\n",
        "print(num) \n"
      ],
      "execution_count": 57,
      "outputs": [
        {
          "output_type": "stream",
          "text": [
            "5\n"
          ],
          "name": "stdout"
        }
      ]
    },
    {
      "cell_type": "markdown",
      "metadata": {
        "id": "3LxonRtgceIz"
      },
      "source": [
        "9. Write a Python program to convert a list of multiple integers into a single integer\r\n",
        "*  Sample list: [11, 33, 50]\r\n",
        "\r\n"
      ]
    },
    {
      "cell_type": "code",
      "metadata": {
        "id": "TCkuaRkAciey",
        "colab": {
          "base_uri": "https://localhost:8080/"
        },
        "outputId": "b28ce657-24f1-4415-e3f8-5d3456d3adbf"
      },
      "source": [
        "list = [11, 33, 50]\n",
        "for x in list:\n",
        "    print (x, end='')\n",
        "\n"
      ],
      "execution_count": 63,
      "outputs": [
        {
          "output_type": "stream",
          "text": [
            "113350"
          ],
          "name": "stdout"
        }
      ]
    },
    {
      "cell_type": "markdown",
      "metadata": {
        "id": "X5V3Hvh1hafZ"
      },
      "source": [
        "10.Write a Python program to print a nested lists (each list on a new line) using the print() function.\r\n",
        "\r\n",
        "*  colors = [['Red'], ['Green'], ['Black']]\r\n",
        "\r\n"
      ]
    },
    {
      "cell_type": "code",
      "metadata": {
        "id": "04nRLJj1eYjM",
        "colab": {
          "base_uri": "https://localhost:8080/"
        },
        "outputId": "ad6b640f-b7cb-4996-ad76-52b2c1041f42"
      },
      "source": [
        "colors = [['Red'], ['Green'], ['Black']]\n",
        "for x in colors:\n",
        "  print(x)"
      ],
      "execution_count": 72,
      "outputs": [
        {
          "output_type": "stream",
          "text": [
            "['Red']\n",
            "['Green']\n",
            "['Black']\n"
          ],
          "name": "stdout"
        }
      ]
    },
    {
      "cell_type": "markdown",
      "metadata": {
        "id": "6aoN9DIcik2G"
      },
      "source": [
        "11. Write a Python script to concatenate following dictionaries to create a new one using a loop\r\n",
        "\r\n",
        "* dic1={1:10, 2:20}\r\n",
        "* dic2={3:30, 4:40}\r\n",
        "* dic3={5:50,6:60}\r\n",
        "\r\n",
        "\r\n",
        "\r\n",
        "\r\n"
      ]
    },
    {
      "cell_type": "code",
      "metadata": {
        "id": "tRcQVNDajOBG",
        "colab": {
          "base_uri": "https://localhost:8080/"
        },
        "outputId": "e1789e0f-7d39-407f-e299-155edf62049e"
      },
      "source": [
        "dic1={1:10, 2:20}\n",
        "dic2={3:30, 4:40}\n",
        "dic3={5:50,6:60}\n",
        "dic4={}\n",
        "for x in (dic1,dic2,dic3):\n",
        "  dic4.update(x)\n",
        "print(dic4)"
      ],
      "execution_count": 75,
      "outputs": [
        {
          "output_type": "stream",
          "text": [
            "{1: 10, 2: 20, 3: 30, 4: 40, 5: 50, 6: 60}\n"
          ],
          "name": "stdout"
        }
      ]
    },
    {
      "cell_type": "markdown",
      "metadata": {
        "id": "LJ9xp0nmjV-0"
      },
      "source": [
        "12.Write a Python script to check whether a given key already exists in a dictionary."
      ]
    },
    {
      "cell_type": "code",
      "metadata": {
        "id": "o6eNQ9RQjlHc",
        "colab": {
          "base_uri": "https://localhost:8080/"
        },
        "outputId": "caf7bd3c-922c-466d-fafb-a3163a3563d1"
      },
      "source": [
        "dict = {1:'name', 2: 'age',3:'height'}\n",
        "def present (x):\n",
        "  if x in dict:\n",
        "    print('We got it.')\n",
        "  else:\n",
        "    print(\"No, it's not here.\")\n",
        "present(1)\n",
        "present(5)"
      ],
      "execution_count": 76,
      "outputs": [
        {
          "output_type": "stream",
          "text": [
            "We got it.\n",
            "No, it's not here.\n"
          ],
          "name": "stdout"
        }
      ]
    },
    {
      "cell_type": "markdown",
      "metadata": {
        "id": "u49NsDHVkGed"
      },
      "source": [
        "13  Write a Python program to check the validity of password input by users. Go to the editor\r\n",
        "Validation :\r\n",
        "*  At least 1 character from [$#@].\r\n",
        "*  Minimum length 6 characters.\r\n",
        "\r\n",
        "\r\n",
        "\r\n"
      ]
    },
    {
      "cell_type": "code",
      "metadata": {
        "id": "tBrQdblskbzJ",
        "colab": {
          "base_uri": "https://localhost:8080/"
        },
        "outputId": "868c4657-180a-4ff4-d497-7a203eab9d84"
      },
      "source": [
        "import re\n",
        "p= input(\"Input your password with at least one $ or # or @\")\n",
        "x = True\n",
        "while x:  \n",
        "    if (len(p)<6):\n",
        "        break\n",
        "    elif not re.search(\"[$#@]\",p):\n",
        "        break\n",
        "    else:\n",
        "        print(\"Valid \")\n",
        "        x=False\n",
        "        break\n",
        "\n",
        "if x:\n",
        "    print(\"Not valid \")"
      ],
      "execution_count": 84,
      "outputs": [
        {
          "output_type": "stream",
          "text": [
            "Input your password with at least one $ or # or @@12\n",
            "Not valid \n"
          ],
          "name": "stdout"
        }
      ]
    },
    {
      "cell_type": "markdown",
      "metadata": {
        "id": "bgyJXNNKlpnh"
      },
      "source": [
        "14. Write a Python program to reverse a string"
      ]
    },
    {
      "cell_type": "code",
      "metadata": {
        "id": "ajCggiVklvqT",
        "colab": {
          "base_uri": "https://localhost:8080/"
        },
        "outputId": "8529d281-a844-4374-bad6-f4ba51dbdf4f"
      },
      "source": [
        "str = 'Vera'\n",
        "rstr = ''.join(reversed(str))\n",
        "print(rstr)"
      ],
      "execution_count": 80,
      "outputs": [
        {
          "output_type": "stream",
          "text": [
            "areV\n"
          ],
          "name": "stdout"
        }
      ]
    },
    {
      "cell_type": "markdown",
      "metadata": {
        "id": "6td2aFajmDEY"
      },
      "source": [
        "15. rite a Python program that accepts a hyphen-separated sequence of words as input and prints the words in a hyphen-separated sequence after sorting them alphabetically\r\n",
        "* green-red-yellow-black-white\r\n",
        "\r\n",
        "\r\n"
      ]
    },
    {
      "cell_type": "code",
      "metadata": {
        "id": "ZKYkFqtymN8r",
        "colab": {
          "base_uri": "https://localhost:8080/"
        },
        "outputId": "aa95d969-36bc-4e2f-b7d8-5441520b40f2"
      },
      "source": [
        "n=input(\"enter the string plz: \") \n",
        "l=n.split('-') \n",
        "l.sort() \n",
        "print('-'.join(l)) "
      ],
      "execution_count": 85,
      "outputs": [
        {
          "output_type": "stream",
          "text": [
            "enter the string: green-red-yellow-black-white\n",
            "black-green-red-white-yellow\n"
          ],
          "name": "stdout"
        }
      ]
    }
  ]
}
