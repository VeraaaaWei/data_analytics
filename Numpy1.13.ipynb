{
  "nbformat": 4,
  "nbformat_minor": 0,
  "metadata": {
    "colab": {
      "name": "Untitled10.ipynb",
      "provenance": [],
      "collapsed_sections": [],
      "authorship_tag": "ABX9TyORRpHyfQ5zJ9JF05ygUZsK",
      "include_colab_link": true
    },
    "kernelspec": {
      "name": "python3",
      "display_name": "Python 3"
    }
  },
  "cells": [
    {
      "cell_type": "markdown",
      "metadata": {
        "id": "view-in-github",
        "colab_type": "text"
      },
      "source": [
        "<a href=\"https://colab.research.google.com/github/VeraaaaWei/data_analytics/blob/Python/1.13.ipynb\" target=\"_parent\"><img src=\"https://colab.research.google.com/assets/colab-badge.svg\" alt=\"Open In Colab\"/></a>"
      ]
    },
    {
      "cell_type": "code",
      "metadata": {
        "colab": {
          "base_uri": "https://localhost:8080/"
        },
        "id": "wGc1OijNlbcM",
        "outputId": "429a23e2-957f-477a-af23-47b5bdd048a8"
      },
      "source": [
        "import numpy as np\n",
        "\n",
        "np_city = np.array([['NYC','LA'],['k','j']])\n",
        "np_city.shape\n",
        "\n",
        "\n",
        "\n",
        "\n"
      ],
      "execution_count": 31,
      "outputs": [
        {
          "output_type": "execute_result",
          "data": {
            "text/plain": [
              "(2, 2)"
            ]
          },
          "metadata": {
            "tags": []
          },
          "execution_count": 31
        }
      ]
    },
    {
      "cell_type": "code",
      "metadata": {
        "colab": {
          "base_uri": "https://localhost:8080/"
        },
        "id": "EKYA-qfcmbK6",
        "outputId": "5f0fb6f1-14af-45a9-8042-5fd49d7e2120"
      },
      "source": [
        "import numpy as np\n",
        "\n",
        "np_city_with_state = np.array(['NYC','LA','Houston'])\n",
        "np_city_with_state.shape\n"
      ],
      "execution_count": 21,
      "outputs": [
        {
          "output_type": "execute_result",
          "data": {
            "text/plain": [
              "(3,)"
            ]
          },
          "metadata": {
            "tags": []
          },
          "execution_count": 21
        }
      ]
    },
    {
      "cell_type": "code",
      "metadata": {
        "colab": {
          "base_uri": "https://localhost:8080/"
        },
        "id": "aJeX1hlMn2da",
        "outputId": "48acc0da-9f0a-4d48-c7fb-b50f63c2f7dc"
      },
      "source": [
        "first = [9,8,7]\n",
        "second = [6,5,4]\n",
        "\n",
        "np_f = np.array(first)\n",
        "np_s = np.array(second)\n",
        "\n",
        "np_f + np_s"
      ],
      "execution_count": 5,
      "outputs": [
        {
          "output_type": "execute_result",
          "data": {
            "text/plain": [
              "array([15, 13, 11])"
            ]
          },
          "metadata": {
            "tags": []
          },
          "execution_count": 5
        }
      ]
    },
    {
      "cell_type": "code",
      "metadata": {
        "colab": {
          "base_uri": "https://localhost:8080/"
        },
        "id": "BqifFYy0qlKP",
        "outputId": "25e341bd-f8a2-43d5-9006-594a4e0a48b4"
      },
      "source": [
        "first = [9,8,7]\n",
        "second = [6,5,4]\n",
        "cyc = np.array([[9,8,7],[6,5,4]])\n",
        "ft = cyc[0]\n",
        "fts = cyc[0,0]\n",
        "st = cyc[1]\n",
        "sts = cyc[1,0]\n",
        "print(ft)\n",
        "print(fts)\n",
        "print(st)\n",
        "print(sts)\n"
      ],
      "execution_count": 15,
      "outputs": [
        {
          "output_type": "stream",
          "text": [
            "[9 8 7]\n",
            "9\n",
            "[6 5 4]\n",
            "6\n"
          ],
          "name": "stdout"
        }
      ]
    },
    {
      "cell_type": "code",
      "metadata": {
        "colab": {
          "base_uri": "https://localhost:8080/"
        },
        "id": "KtIK60lvsOp2",
        "outputId": "39b56ac8-f195-4767-e672-6677333f177c"
      },
      "source": [
        "first = [9,8,7]\n",
        "second = [6,5,4]\n",
        "cyc = np.array([first, second])\n",
        "ft = cyc[0]\n",
        "fts = cyc[0,0]\n",
        "st = cyc[1]\n",
        "sts = cyc[1,0]\n",
        "print(ft)\n",
        "print(fts)\n",
        "print(st)\n",
        "print(sts)\n"
      ],
      "execution_count": 17,
      "outputs": [
        {
          "output_type": "stream",
          "text": [
            "[9 8 7]\n",
            "9\n",
            "[6 5 4]\n",
            "6\n"
          ],
          "name": "stdout"
        }
      ]
    },
    {
      "cell_type": "code",
      "metadata": {
        "colab": {
          "base_uri": "https://localhost:8080/"
        },
        "id": "vnRRV-vot5Ir",
        "outputId": "3c1aac15-2e8f-4962-be42-da35e710d0d7"
      },
      "source": [
        "ts = np.array([[1,2,3],[4,5,6]])\n",
        "ps = ts>2\n",
        "ts[ps]\n",
        "\n"
      ],
      "execution_count": 18,
      "outputs": [
        {
          "output_type": "execute_result",
          "data": {
            "text/plain": [
              "array([3, 4, 5, 6])"
            ]
          },
          "metadata": {
            "tags": []
          },
          "execution_count": 18
        }
      ]
    },
    {
      "cell_type": "code",
      "metadata": {
        "colab": {
          "base_uri": "https://localhost:8080/"
        },
        "id": "alhjiBpAxBXX",
        "outputId": "1a6e88bd-eb33-4414-8bb8-88fb0aa5b044"
      },
      "source": [
        "NYCB = np.array(['M','Q','B','S','BR'])\n",
        "NYCB"
      ],
      "execution_count": 22,
      "outputs": [
        {
          "output_type": "execute_result",
          "data": {
            "text/plain": [
              "array(['M', 'Q', 'B', 'S', 'BR'], dtype='<U2')"
            ]
          },
          "metadata": {
            "tags": []
          },
          "execution_count": 22
        }
      ]
    },
    {
      "cell_type": "code",
      "metadata": {
        "colab": {
          "base_uri": "https://localhost:8080/",
          "height": 35
        },
        "id": "PH7CSz6IxX91",
        "outputId": "74c12908-bd87-459a-e06f-cc7d5633d245"
      },
      "source": [
        "NYCB = np.array(['M','Q','B','S'])\n",
        "NYCB\n",
        "\n",
        "BNYC = NYCB\n",
        "BNYC\n",
        "BSNYC = BNYC.view()\n",
        "BSNYC\n",
        "\n",
        "NYCB is BNYC\n",
        "\n",
        "len(BSNYC)\n",
        "\n",
        "BSNYC[3]"
      ],
      "execution_count": 29,
      "outputs": [
        {
          "output_type": "execute_result",
          "data": {
            "application/vnd.google.colaboratory.intrinsic+json": {
              "type": "string"
            },
            "text/plain": [
              "'S'"
            ]
          },
          "metadata": {
            "tags": []
          },
          "execution_count": 29
        }
      ]
    },
    {
      "cell_type": "code",
      "metadata": {
        "colab": {
          "base_uri": "https://localhost:8080/"
        },
        "id": "kXWLaEVzzlOF",
        "outputId": "cd1b4af5-6f97-42eb-aea2-62746280e970"
      },
      "source": [
        "\n",
        "\n",
        "from numpy import pi\n",
        "np.cos(0)\n",
        "np.sin(pi/2)\n",
        "np.cos(pi)\n",
        "np.floor([2.3,3,4.5,-1.9])\n",
        "np.exp([0,1,3])"
      ],
      "execution_count": 39,
      "outputs": [
        {
          "output_type": "execute_result",
          "data": {
            "text/plain": [
              "array([ 1.        ,  2.71828183, 20.08553692])"
            ]
          },
          "metadata": {
            "tags": []
          },
          "execution_count": 39
        }
      ]
    },
    {
      "cell_type": "code",
      "metadata": {
        "colab": {
          "base_uri": "https://localhost:8080/"
        },
        "id": "z2BxxuG01V87",
        "outputId": "953d77a6-9127-4f5c-f7d6-925c8e218b2a"
      },
      "source": [
        "np_sqrt =np.sqrt([2,3,4,5])\n",
        "np_sqrt"
      ],
      "execution_count": 37,
      "outputs": [
        {
          "output_type": "execute_result",
          "data": {
            "text/plain": [
              "array([1.41421356, 1.73205081, 2.        , 2.23606798])"
            ]
          },
          "metadata": {
            "tags": []
          },
          "execution_count": 37
        }
      ]
    },
    {
      "cell_type": "code",
      "metadata": {
        "colab": {
          "base_uri": "https://localhost:8080/"
        },
        "id": "G7J1bxWM2AZj",
        "outputId": "060ef361-fc89-4fa9-8d82-e8b97b9c8ef9"
      },
      "source": [
        "a = np.array([9,8,7])\n",
        "b = np.array([6,5,4])\n",
        "a*b\n",
        "c = 0.3\n",
        "a*c"
      ],
      "execution_count": 41,
      "outputs": [
        {
          "output_type": "execute_result",
          "data": {
            "text/plain": [
              "array([2.7, 2.4, 2.1])"
            ]
          },
          "metadata": {
            "tags": []
          },
          "execution_count": 41
        }
      ]
    },
    {
      "cell_type": "code",
      "metadata": {
        "colab": {
          "base_uri": "https://localhost:8080/"
        },
        "id": "PkMtDmv33c9q",
        "outputId": "7a6da52e-a8f9-42b0-a077-194d58366644"
      },
      "source": [
        "inve = np.array([[1,2],[9,8]])\n",
        "np.linalg.inv(inve)"
      ],
      "execution_count": 46,
      "outputs": [
        {
          "output_type": "execute_result",
          "data": {
            "text/plain": [
              "array([[-0.8,  0.2],\n",
              "       [ 0.9, -0.1]])"
            ]
          },
          "metadata": {
            "tags": []
          },
          "execution_count": 46
        }
      ]
    }
  ]
}
